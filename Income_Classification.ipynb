{
  "nbformat": 4,
  "nbformat_minor": 0,
  "metadata": {
    "colab": {
      "name": "Income_Classification.ipynb",
      "provenance": [],
      "collapsed_sections": [],
      "toc_visible": true
    },
    "kernelspec": {
      "name": "python3",
      "display_name": "Python 3"
    },
    "accelerator": "GPU"
  },
  "cells": [
    {
      "cell_type": "markdown",
      "source": [
        "# **Income Classification**"
      ],
      "metadata": {
        "id": "69est1yAduuR"
      }
    },
    {
      "cell_type": "markdown",
      "metadata": {
        "id": "h499XODorEv2"
      },
      "source": [
        "\n",
        "\n",
        "#**Background**\n",
        "The goal of this project is to build a model that will predict whether a person earns more than 50K per year.\n",
        "* Reference - https://www.kaggle.com/datasets/lodetomasi1995/income-classification\n",
        " \n",
        "  The data set contains information about people and their income."
      ]
    },
    {
      "cell_type": "markdown",
      "metadata": {
        "id": "xgccWk5_TncC"
      },
      "source": [
        "#**Import Libraries**"
      ]
    },
    {
      "cell_type": "code",
      "metadata": {
        "id": "2y1m9g0CTrdk"
      },
      "source": [
        "import pandas as pd\n",
        "import matplotlib.pyplot as plt\n",
        "import seaborn as sns\n",
        "import numpy as np\n",
        "from scipy.stats import norm\n",
        "from sklearn.preprocessing import StandardScaler\n",
        "from scipy import stats\n",
        "import sys\n",
        "import warnings\n",
        "warnings.filterwarnings('ignore')\n",
        "%matplotlib inline\n",
        "import os\n",
        "from sklearn.metrics import confusion_matrix\n",
        "from sklearn.metrics import classification_report\n",
        "from sklearn.model_selection import GridSearchCV\n",
        "from sklearn.feature_selection import SelectKBest, chi2\n",
        "from sklearn.utils import resample\n",
        "from sklearn.ensemble import RandomForestClassifier,AdaBoostClassifier, GradientBoostingClassifier\n",
        "from sklearn.svm import SVC\n",
        "from sklearn.metrics import accuracy_score\n",
        "from sklearn.metrics import f1_score\n",
        "from sklearn.model_selection import train_test_split\n",
        "from imblearn.over_sampling import SMOTE"
      ],
      "execution_count": null,
      "outputs": []
    },
    {
      "cell_type": "markdown",
      "metadata": {
        "id": "M-IE-XGaV9aQ"
      },
      "source": [
        "#**Import Data**"
      ]
    },
    {
      "cell_type": "code",
      "metadata": {
        "id": "fW8CAXq_25ZK",
        "colab": {
          "base_uri": "https://localhost:8080/",
          "resources": {
            "http://localhost:8080/nbextensions/google.colab/files.js": {
              "data": "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",
              "ok": true,
              "headers": [
                [
                  "content-type",
                  "application/javascript"
                ]
              ],
              "status": 200,
              "status_text": ""
            }
          },
          "height": 73
        },
        "outputId": "db4099ed-b55c-43e9-f34b-3baf02ffb445"
      },
      "source": [
        "if 'google.colab' in sys.modules:\n",
        "    from google.colab import files\n",
        "    uploaded = files.upload()"
      ],
      "execution_count": null,
      "outputs": [
        {
          "output_type": "display_data",
          "data": {
            "text/plain": [
              "<IPython.core.display.HTML object>"
            ],
            "text/html": [
              "\n",
              "     <input type=\"file\" id=\"files-96c3dbd0-3705-4bf9-947f-32a6dc9f5249\" name=\"files[]\" multiple disabled\n",
              "        style=\"border:none\" />\n",
              "     <output id=\"result-96c3dbd0-3705-4bf9-947f-32a6dc9f5249\">\n",
              "      Upload widget is only available when the cell has been executed in the\n",
              "      current browser session. Please rerun this cell to enable.\n",
              "      </output>\n",
              "      <script src=\"/nbextensions/google.colab/files.js\"></script> "
            ]
          },
          "metadata": {}
        },
        {
          "output_type": "stream",
          "name": "stdout",
          "text": [
            "Saving income_evaluation.csv to income_evaluation.csv\n"
          ]
        }
      ]
    },
    {
      "cell_type": "code",
      "metadata": {
        "id": "9MXU-bnfSaeb",
        "colab": {
          "base_uri": "https://localhost:8080/",
          "height": 206
        },
        "outputId": "d0e3e078-c855-4f56-9c19-a2a612c0090c"
      },
      "source": [
        "df = pd.read_csv('income_evaluation.csv')\n",
        "df.head()"
      ],
      "execution_count": null,
      "outputs": [
        {
          "output_type": "execute_result",
          "data": {
            "text/plain": [
              "   age          workclass   fnlwgt   education   education-num  \\\n",
              "0   39          State-gov    77516   Bachelors              13   \n",
              "1   50   Self-emp-not-inc    83311   Bachelors              13   \n",
              "2   38            Private   215646     HS-grad               9   \n",
              "3   53            Private   234721        11th               7   \n",
              "4   28            Private   338409   Bachelors              13   \n",
              "\n",
              "        marital-status          occupation    relationship    race      sex  \\\n",
              "0        Never-married        Adm-clerical   Not-in-family   White     Male   \n",
              "1   Married-civ-spouse     Exec-managerial         Husband   White     Male   \n",
              "2             Divorced   Handlers-cleaners   Not-in-family   White     Male   \n",
              "3   Married-civ-spouse   Handlers-cleaners         Husband   Black     Male   \n",
              "4   Married-civ-spouse      Prof-specialty            Wife   Black   Female   \n",
              "\n",
              "    capital-gain   capital-loss   hours-per-week  native-country  income  \n",
              "0           2174              0               40   United-States   <=50K  \n",
              "1              0              0               13   United-States   <=50K  \n",
              "2              0              0               40   United-States   <=50K  \n",
              "3              0              0               40   United-States   <=50K  \n",
              "4              0              0               40            Cuba   <=50K  "
            ],
            "text/html": [
              "\n",
              "  <div id=\"df-9130cbd1-0261-4d1e-896b-7b4311ee7f7a\">\n",
              "    <div class=\"colab-df-container\">\n",
              "      <div>\n",
              "<style scoped>\n",
              "    .dataframe tbody tr th:only-of-type {\n",
              "        vertical-align: middle;\n",
              "    }\n",
              "\n",
              "    .dataframe tbody tr th {\n",
              "        vertical-align: top;\n",
              "    }\n",
              "\n",
              "    .dataframe thead th {\n",
              "        text-align: right;\n",
              "    }\n",
              "</style>\n",
              "<table border=\"1\" class=\"dataframe\">\n",
              "  <thead>\n",
              "    <tr style=\"text-align: right;\">\n",
              "      <th></th>\n",
              "      <th>age</th>\n",
              "      <th>workclass</th>\n",
              "      <th>fnlwgt</th>\n",
              "      <th>education</th>\n",
              "      <th>education-num</th>\n",
              "      <th>marital-status</th>\n",
              "      <th>occupation</th>\n",
              "      <th>relationship</th>\n",
              "      <th>race</th>\n",
              "      <th>sex</th>\n",
              "      <th>capital-gain</th>\n",
              "      <th>capital-loss</th>\n",
              "      <th>hours-per-week</th>\n",
              "      <th>native-country</th>\n",
              "      <th>income</th>\n",
              "    </tr>\n",
              "  </thead>\n",
              "  <tbody>\n",
              "    <tr>\n",
              "      <th>0</th>\n",
              "      <td>39</td>\n",
              "      <td>State-gov</td>\n",
              "      <td>77516</td>\n",
              "      <td>Bachelors</td>\n",
              "      <td>13</td>\n",
              "      <td>Never-married</td>\n",
              "      <td>Adm-clerical</td>\n",
              "      <td>Not-in-family</td>\n",
              "      <td>White</td>\n",
              "      <td>Male</td>\n",
              "      <td>2174</td>\n",
              "      <td>0</td>\n",
              "      <td>40</td>\n",
              "      <td>United-States</td>\n",
              "      <td>&lt;=50K</td>\n",
              "    </tr>\n",
              "    <tr>\n",
              "      <th>1</th>\n",
              "      <td>50</td>\n",
              "      <td>Self-emp-not-inc</td>\n",
              "      <td>83311</td>\n",
              "      <td>Bachelors</td>\n",
              "      <td>13</td>\n",
              "      <td>Married-civ-spouse</td>\n",
              "      <td>Exec-managerial</td>\n",
              "      <td>Husband</td>\n",
              "      <td>White</td>\n",
              "      <td>Male</td>\n",
              "      <td>0</td>\n",
              "      <td>0</td>\n",
              "      <td>13</td>\n",
              "      <td>United-States</td>\n",
              "      <td>&lt;=50K</td>\n",
              "    </tr>\n",
              "    <tr>\n",
              "      <th>2</th>\n",
              "      <td>38</td>\n",
              "      <td>Private</td>\n",
              "      <td>215646</td>\n",
              "      <td>HS-grad</td>\n",
              "      <td>9</td>\n",
              "      <td>Divorced</td>\n",
              "      <td>Handlers-cleaners</td>\n",
              "      <td>Not-in-family</td>\n",
              "      <td>White</td>\n",
              "      <td>Male</td>\n",
              "      <td>0</td>\n",
              "      <td>0</td>\n",
              "      <td>40</td>\n",
              "      <td>United-States</td>\n",
              "      <td>&lt;=50K</td>\n",
              "    </tr>\n",
              "    <tr>\n",
              "      <th>3</th>\n",
              "      <td>53</td>\n",
              "      <td>Private</td>\n",
              "      <td>234721</td>\n",
              "      <td>11th</td>\n",
              "      <td>7</td>\n",
              "      <td>Married-civ-spouse</td>\n",
              "      <td>Handlers-cleaners</td>\n",
              "      <td>Husband</td>\n",
              "      <td>Black</td>\n",
              "      <td>Male</td>\n",
              "      <td>0</td>\n",
              "      <td>0</td>\n",
              "      <td>40</td>\n",
              "      <td>United-States</td>\n",
              "      <td>&lt;=50K</td>\n",
              "    </tr>\n",
              "    <tr>\n",
              "      <th>4</th>\n",
              "      <td>28</td>\n",
              "      <td>Private</td>\n",
              "      <td>338409</td>\n",
              "      <td>Bachelors</td>\n",
              "      <td>13</td>\n",
              "      <td>Married-civ-spouse</td>\n",
              "      <td>Prof-specialty</td>\n",
              "      <td>Wife</td>\n",
              "      <td>Black</td>\n",
              "      <td>Female</td>\n",
              "      <td>0</td>\n",
              "      <td>0</td>\n",
              "      <td>40</td>\n",
              "      <td>Cuba</td>\n",
              "      <td>&lt;=50K</td>\n",
              "    </tr>\n",
              "  </tbody>\n",
              "</table>\n",
              "</div>\n",
              "      <button class=\"colab-df-convert\" onclick=\"convertToInteractive('df-9130cbd1-0261-4d1e-896b-7b4311ee7f7a')\"\n",
              "              title=\"Convert this dataframe to an interactive table.\"\n",
              "              style=\"display:none;\">\n",
              "        \n",
              "  <svg xmlns=\"http://www.w3.org/2000/svg\" height=\"24px\"viewBox=\"0 0 24 24\"\n",
              "       width=\"24px\">\n",
              "    <path d=\"M0 0h24v24H0V0z\" fill=\"none\"/>\n",
              "    <path d=\"M18.56 5.44l.94 2.06.94-2.06 2.06-.94-2.06-.94-.94-2.06-.94 2.06-2.06.94zm-11 1L8.5 8.5l.94-2.06 2.06-.94-2.06-.94L8.5 2.5l-.94 2.06-2.06.94zm10 10l.94 2.06.94-2.06 2.06-.94-2.06-.94-.94-2.06-.94 2.06-2.06.94z\"/><path d=\"M17.41 7.96l-1.37-1.37c-.4-.4-.92-.59-1.43-.59-.52 0-1.04.2-1.43.59L10.3 9.45l-7.72 7.72c-.78.78-.78 2.05 0 2.83L4 21.41c.39.39.9.59 1.41.59.51 0 1.02-.2 1.41-.59l7.78-7.78 2.81-2.81c.8-.78.8-2.07 0-2.86zM5.41 20L4 18.59l7.72-7.72 1.47 1.35L5.41 20z\"/>\n",
              "  </svg>\n",
              "      </button>\n",
              "      \n",
              "  <style>\n",
              "    .colab-df-container {\n",
              "      display:flex;\n",
              "      flex-wrap:wrap;\n",
              "      gap: 12px;\n",
              "    }\n",
              "\n",
              "    .colab-df-convert {\n",
              "      background-color: #E8F0FE;\n",
              "      border: none;\n",
              "      border-radius: 50%;\n",
              "      cursor: pointer;\n",
              "      display: none;\n",
              "      fill: #1967D2;\n",
              "      height: 32px;\n",
              "      padding: 0 0 0 0;\n",
              "      width: 32px;\n",
              "    }\n",
              "\n",
              "    .colab-df-convert:hover {\n",
              "      background-color: #E2EBFA;\n",
              "      box-shadow: 0px 1px 2px rgba(60, 64, 67, 0.3), 0px 1px 3px 1px rgba(60, 64, 67, 0.15);\n",
              "      fill: #174EA6;\n",
              "    }\n",
              "\n",
              "    [theme=dark] .colab-df-convert {\n",
              "      background-color: #3B4455;\n",
              "      fill: #D2E3FC;\n",
              "    }\n",
              "\n",
              "    [theme=dark] .colab-df-convert:hover {\n",
              "      background-color: #434B5C;\n",
              "      box-shadow: 0px 1px 3px 1px rgba(0, 0, 0, 0.15);\n",
              "      filter: drop-shadow(0px 1px 2px rgba(0, 0, 0, 0.3));\n",
              "      fill: #FFFFFF;\n",
              "    }\n",
              "  </style>\n",
              "\n",
              "      <script>\n",
              "        const buttonEl =\n",
              "          document.querySelector('#df-9130cbd1-0261-4d1e-896b-7b4311ee7f7a button.colab-df-convert');\n",
              "        buttonEl.style.display =\n",
              "          google.colab.kernel.accessAllowed ? 'block' : 'none';\n",
              "\n",
              "        async function convertToInteractive(key) {\n",
              "          const element = document.querySelector('#df-9130cbd1-0261-4d1e-896b-7b4311ee7f7a');\n",
              "          const dataTable =\n",
              "            await google.colab.kernel.invokeFunction('convertToInteractive',\n",
              "                                                     [key], {});\n",
              "          if (!dataTable) return;\n",
              "\n",
              "          const docLinkHtml = 'Like what you see? Visit the ' +\n",
              "            '<a target=\"_blank\" href=https://colab.research.google.com/notebooks/data_table.ipynb>data table notebook</a>'\n",
              "            + ' to learn more about interactive tables.';\n",
              "          element.innerHTML = '';\n",
              "          dataTable['output_type'] = 'display_data';\n",
              "          await google.colab.output.renderOutput(dataTable, element);\n",
              "          const docLink = document.createElement('div');\n",
              "          docLink.innerHTML = docLinkHtml;\n",
              "          element.appendChild(docLink);\n",
              "        }\n",
              "      </script>\n",
              "    </div>\n",
              "  </div>\n",
              "  "
            ]
          },
          "metadata": {},
          "execution_count": 6
        }
      ]
    },
    {
      "cell_type": "code",
      "metadata": {
        "id": "IZY5khDQW152",
        "colab": {
          "base_uri": "https://localhost:8080/"
        },
        "outputId": "5fc36b5b-372c-4107-b736-b0b04d56e949"
      },
      "source": [
        "df.shape"
      ],
      "execution_count": null,
      "outputs": [
        {
          "output_type": "execute_result",
          "data": {
            "text/plain": [
              "(32561, 15)"
            ]
          },
          "metadata": {},
          "execution_count": 7
        }
      ]
    },
    {
      "cell_type": "code",
      "metadata": {
        "id": "2m3yKBuZKO1a"
      },
      "source": [
        "len_df = len(df)"
      ],
      "execution_count": null,
      "outputs": []
    },
    {
      "cell_type": "markdown",
      "metadata": {
        "id": "lPuNZ7FfXLoW"
      },
      "source": [
        "#**Data Cleaning**"
      ]
    },
    {
      "cell_type": "code",
      "source": [
        "df.info()"
      ],
      "metadata": {
        "colab": {
          "base_uri": "https://localhost:8080/"
        },
        "id": "x96GbnDLgb9V",
        "outputId": "61957abc-9b3b-4c96-a841-e19ff204ac97"
      },
      "execution_count": null,
      "outputs": [
        {
          "output_type": "stream",
          "name": "stdout",
          "text": [
            "<class 'pandas.core.frame.DataFrame'>\n",
            "RangeIndex: 32561 entries, 0 to 32560\n",
            "Data columns (total 15 columns):\n",
            " #   Column           Non-Null Count  Dtype \n",
            "---  ------           --------------  ----- \n",
            " 0   age              32561 non-null  int64 \n",
            " 1    workclass       32561 non-null  object\n",
            " 2    fnlwgt          32561 non-null  int64 \n",
            " 3    education       32561 non-null  object\n",
            " 4    education-num   32561 non-null  int64 \n",
            " 5    marital-status  32561 non-null  object\n",
            " 6    occupation      32561 non-null  object\n",
            " 7    relationship    32561 non-null  object\n",
            " 8    race            32561 non-null  object\n",
            " 9    sex             32561 non-null  object\n",
            " 10   capital-gain    32561 non-null  int64 \n",
            " 11   capital-loss    32561 non-null  int64 \n",
            " 12   hours-per-week  32561 non-null  int64 \n",
            " 13   native-country  32561 non-null  object\n",
            " 14   income          32561 non-null  object\n",
            "dtypes: int64(6), object(9)\n",
            "memory usage: 3.7+ MB\n"
          ]
        }
      ]
    },
    {
      "cell_type": "markdown",
      "metadata": {
        "id": "jhXiNcRnIeFc"
      },
      "source": [
        "**Check NaN Values**"
      ]
    },
    {
      "cell_type": "code",
      "metadata": {
        "id": "Qsrk7Z1nXSs-",
        "colab": {
          "base_uri": "https://localhost:8080/"
        },
        "outputId": "0548b2ff-e856-484f-f1cc-174db12b9a62"
      },
      "source": [
        "df.isnull().sum()"
      ],
      "execution_count": null,
      "outputs": [
        {
          "output_type": "execute_result",
          "data": {
            "text/plain": [
              "age                0\n",
              " workclass         0\n",
              " fnlwgt            0\n",
              " education         0\n",
              " education-num     0\n",
              " marital-status    0\n",
              " occupation        0\n",
              " relationship      0\n",
              " race              0\n",
              " sex               0\n",
              " capital-gain      0\n",
              " capital-loss      0\n",
              " hours-per-week    0\n",
              " native-country    0\n",
              " income            0\n",
              "dtype: int64"
            ]
          },
          "metadata": {},
          "execution_count": 10
        }
      ]
    },
    {
      "cell_type": "markdown",
      "metadata": {
        "id": "Ov0yOFecIjvv"
      },
      "source": [
        "**Handle Missing Values**"
      ]
    },
    {
      "cell_type": "code",
      "metadata": {
        "id": "dMgUkC-UHlVJ",
        "colab": {
          "base_uri": "https://localhost:8080/"
        },
        "outputId": "9158077f-70e6-45c2-a6de-35ef9d8204a6"
      },
      "source": [
        "cat_list = [cat for cat in df.columns if df[cat].dtype=='O']\n",
        "\n",
        "for column in cat_list:\n",
        "    print ('Unique values per column -'+str(column) + ':')\n",
        "    print('\\t')\n",
        "    print (df[column].unique())\n",
        "    print('---')\n",
        "    print('\\t')"
      ],
      "execution_count": null,
      "outputs": [
        {
          "output_type": "stream",
          "name": "stdout",
          "text": [
            "Unique values per column - workclass:\n",
            "\t\n",
            "[' State-gov' ' Self-emp-not-inc' ' Private' ' Federal-gov' ' Local-gov'\n",
            " ' ?' ' Self-emp-inc' ' Without-pay' ' Never-worked']\n",
            "---\n",
            "\t\n",
            "Unique values per column - education:\n",
            "\t\n",
            "[' Bachelors' ' HS-grad' ' 11th' ' Masters' ' 9th' ' Some-college'\n",
            " ' Assoc-acdm' ' Assoc-voc' ' 7th-8th' ' Doctorate' ' Prof-school'\n",
            " ' 5th-6th' ' 10th' ' 1st-4th' ' Preschool' ' 12th']\n",
            "---\n",
            "\t\n",
            "Unique values per column - marital-status:\n",
            "\t\n",
            "[' Never-married' ' Married-civ-spouse' ' Divorced'\n",
            " ' Married-spouse-absent' ' Separated' ' Married-AF-spouse' ' Widowed']\n",
            "---\n",
            "\t\n",
            "Unique values per column - occupation:\n",
            "\t\n",
            "[' Adm-clerical' ' Exec-managerial' ' Handlers-cleaners' ' Prof-specialty'\n",
            " ' Other-service' ' Sales' ' Craft-repair' ' Transport-moving'\n",
            " ' Farming-fishing' ' Machine-op-inspct' ' Tech-support' ' ?'\n",
            " ' Protective-serv' ' Armed-Forces' ' Priv-house-serv']\n",
            "---\n",
            "\t\n",
            "Unique values per column - relationship:\n",
            "\t\n",
            "[' Not-in-family' ' Husband' ' Wife' ' Own-child' ' Unmarried'\n",
            " ' Other-relative']\n",
            "---\n",
            "\t\n",
            "Unique values per column - race:\n",
            "\t\n",
            "[' White' ' Black' ' Asian-Pac-Islander' ' Amer-Indian-Eskimo' ' Other']\n",
            "---\n",
            "\t\n",
            "Unique values per column - sex:\n",
            "\t\n",
            "[' Male' ' Female']\n",
            "---\n",
            "\t\n",
            "Unique values per column - native-country:\n",
            "\t\n",
            "[' United-States' ' Cuba' ' Jamaica' ' India' ' ?' ' Mexico' ' South'\n",
            " ' Puerto-Rico' ' Honduras' ' England' ' Canada' ' Germany' ' Iran'\n",
            " ' Philippines' ' Italy' ' Poland' ' Columbia' ' Cambodia' ' Thailand'\n",
            " ' Ecuador' ' Laos' ' Taiwan' ' Haiti' ' Portugal' ' Dominican-Republic'\n",
            " ' El-Salvador' ' France' ' Guatemala' ' China' ' Japan' ' Yugoslavia'\n",
            " ' Peru' ' Outlying-US(Guam-USVI-etc)' ' Scotland' ' Trinadad&Tobago'\n",
            " ' Greece' ' Nicaragua' ' Vietnam' ' Hong' ' Ireland' ' Hungary'\n",
            " ' Holand-Netherlands']\n",
            "---\n",
            "\t\n",
            "Unique values per column - income:\n",
            "\t\n",
            "[' <=50K' ' >50K']\n",
            "---\n",
            "\t\n"
          ]
        }
      ]
    },
    {
      "cell_type": "code",
      "source": [
        "# find categorical columns with missing values\n",
        "for col in cat_list:\n",
        "    if df[col].isnull().mean()>0:\n",
        "        print(col, (df[col].isnull().mean()))"
      ],
      "metadata": {
        "id": "TSbj76KsksZo"
      },
      "execution_count": null,
      "outputs": []
    },
    {
      "cell_type": "code",
      "metadata": {
        "id": "Hkfl8b59IXEU"
      },
      "source": [
        "# drop missing values\n",
        "df[[' workclass',' occupation',' native-country']] = df[[' workclass',' occupation',' native-country']].replace(' ?',np.NaN)\n",
        "df = df.dropna(how='any',axis=0)\n",
        "\n",
        "# alternatively we can use imputation, for example most frequent value:\n",
        "# df['workclass'].fillna(df['workclass'].mode()[0], inplace=True)"
      ],
      "execution_count": null,
      "outputs": []
    },
    {
      "cell_type": "code",
      "source": [
        "# Handle Duplications\n",
        "df.drop_duplicates(inplace=True)"
      ],
      "metadata": {
        "id": "AiHP6MlpopVS"
      },
      "execution_count": null,
      "outputs": []
    },
    {
      "cell_type": "code",
      "metadata": {
        "id": "PLrcyUVdKfN7",
        "colab": {
          "base_uri": "https://localhost:8080/"
        },
        "outputId": "e168a9ba-84d6-4e6f-dece-ae6923ba9d24"
      },
      "source": [
        "# Display Clean Dataset Size\n",
        "print(\"clean_dataset_size:\",100*len(df)/len_df,\"%\")"
      ],
      "execution_count": null,
      "outputs": [
        {
          "output_type": "stream",
          "name": "stdout",
          "text": [
            "clean_dataset_size: 92.56165351187003 %\n"
          ]
        }
      ]
    },
    {
      "cell_type": "code",
      "metadata": {
        "id": "WMzt1bdUUxff",
        "colab": {
          "base_uri": "https://localhost:8080/",
          "height": 241
        },
        "outputId": "c6149179-2772-4c7b-d123-ff4e8aadee72"
      },
      "source": [
        "# Handle Imbalanced Data\n",
        "f, plot = plt.subplots(figsize=(3, 3))\n",
        "plot = sns.countplot(x=\" income\", data=df, palette=\"bwr\").set_title(\"Income distribution\")\n",
        "plt.show()"
      ],
      "execution_count": null,
      "outputs": [
        {
          "output_type": "display_data",
          "data": {
            "text/plain": [
              "<Figure size 216x216 with 1 Axes>"
            ],
            "image/png": "[encoded data removed]"
          },
          "metadata": {
            "needs_background": "light"
          }
        }
      ]
    },
    {
      "cell_type": "markdown",
      "source": [
        "*We can see that there is an imbalanced data issue (models tend to bias towards the larger class i.e. large portion of the data).*"
      ],
      "metadata": {
        "id": "ZPBYbe7zv6CS"
      }
    },
    {
      "cell_type": "markdown",
      "metadata": {
        "id": "brzUEInYAqel"
      },
      "source": [
        "**Methods to balance datasets:**<br>\n",
        "1. **Undersampling:**\n",
        "* Randomly selecting observations from the majority class and removing them from the training dataset\n",
        "* Can be used with large dataset, disadvantage is that we are removing data that may be valuable which then can lead to underfitting and poor generalization to the test set.\n",
        "---\n",
        "2. **Oversampling:**<br>\n",
        "* Randomly selecting observations from the minority class, with replacement, and adding them to the training dataset. \n",
        "* Can be a good choice when you don’t have a big dataset to work with\n",
        "---\n",
        "3. **SMOTE Over Sampling (Synthetic Minority Oversampling Technique):**\n",
        "* Works by creating synthetic samples from the minor class instead of creating copies.\n",
        "* Randomly choosing one of the k-nearest-neighbors and using it to create a similar, but randomly tweaked, new observations.\n",
        "  "
      ]
    },
    {
      "cell_type": "code",
      "source": [
        "# SMOTE will be applied later on the training data set"
      ],
      "metadata": {
        "id": "YgUZ8t9KDDJ-"
      },
      "execution_count": null,
      "outputs": []
    },
    {
      "cell_type": "markdown",
      "metadata": {
        "id": "YJM2ZFiMUQrL"
      },
      "source": [
        "#**EDA**"
      ]
    },
    {
      "cell_type": "markdown",
      "source": [
        "**Sex column**"
      ],
      "metadata": {
        "id": "s6uEhFKqgoHQ"
      }
    },
    {
      "cell_type": "code",
      "source": [
        "f, plot = plt.subplots(figsize=(4, 3))\n",
        "df[' sex'].value_counts().plot.bar()\n",
        "plot.set_title(\"Sex distribution\")"
      ],
      "metadata": {
        "colab": {
          "base_uri": "https://localhost:8080/",
          "height": 273
        },
        "id": "TwhvIK9lF-Sm",
        "outputId": "4b111728-ac00-4c51-dec1-8c9b41062bb0"
      },
      "execution_count": null,
      "outputs": [
        {
          "output_type": "execute_result",
          "data": {
            "text/plain": [
              "Text(0.5, 1.0, 'Sex distribution')"
            ]
          },
          "metadata": {},
          "execution_count": 18
        },
        {
          "output_type": "display_data",
          "data": {
            "text/plain": [
              "<Figure size 288x216 with 1 Axes>"
            ],
            "image/png": "[encoded data removed]"
          },
          "metadata": {
            "needs_background": "light"
          }
        }
      ]
    },
    {
      "cell_type": "code",
      "source": [
        "f, plot = plt.subplots(figsize=(4, 3))\n",
        "plot = sns.countplot(x=\" sex\", data=df, hue=\" income\", palette=\"bwr\")\n",
        "plot.set_title(\"Income by Sex\")\n",
        "plt.show()"
      ],
      "metadata": {
        "colab": {
          "base_uri": "https://localhost:8080/",
          "height": 241
        },
        "id": "fECVcV5orVWW",
        "outputId": "c59f53a1-8183-4651-a5db-e46a48ef038d"
      },
      "execution_count": null,
      "outputs": [
        {
          "output_type": "display_data",
          "data": {
            "text/plain": [
              "<Figure size 288x216 with 1 Axes>"
            ],
            "image/png": "[encoded data removed]"
          },
          "metadata": {
            "needs_background": "light"
          }
        }
      ]
    },
    {
      "cell_type": "markdown",
      "source": [
        "*We can see that the proportion of \">50k\" group of total, is much higher for males than females, suggesting males are making more money.*"
      ],
      "metadata": {
        "id": "hmAskD_GJ5XR"
      }
    },
    {
      "cell_type": "code",
      "source": [
        "ax = sns.catplot(x=\" income\", y=\"age\", col=\" sex\", data=df, kind=\"box\", height=4, palette=\"bwr\")\n",
        "plt.show()"
      ],
      "metadata": {
        "colab": {
          "base_uri": "https://localhost:8080/",
          "height": 297
        },
        "id": "gpFaaTZrJRid",
        "outputId": "39cd1ef0-421a-42f3-8055-361ed412c4de"
      },
      "execution_count": null,
      "outputs": [
        {
          "output_type": "display_data",
          "data": {
            "text/plain": [
              "<Figure size 576x288 with 2 Axes>"
            ],
            "image/png": "[encoded data removed]"
          },
          "metadata": {
            "needs_background": "light"
          }
        }
      ]
    },
    {
      "cell_type": "markdown",
      "source": [
        "*We can see that older people makes more money than younger people.*"
      ],
      "metadata": {
        "id": "iRzRPeMnJp6T"
      }
    },
    {
      "cell_type": "markdown",
      "source": [
        "**Education column**"
      ],
      "metadata": {
        "id": "vvzHlPuyg2Wt"
      }
    },
    {
      "cell_type": "code",
      "source": [
        "f, plot = plt.subplots(figsize=(4, 3))\n",
        "df[' education'].value_counts().head(10).plot.bar()\n",
        "plot.set_title(\"Education distribution\")"
      ],
      "metadata": {
        "colab": {
          "base_uri": "https://localhost:8080/",
          "height": 305
        },
        "id": "BDt1Y1x2F38S",
        "outputId": "1253204d-4c05-4142-a70d-62aab705bb8c"
      },
      "execution_count": null,
      "outputs": [
        {
          "output_type": "execute_result",
          "data": {
            "text/plain": [
              "Text(0.5, 1.0, 'Education distribution')"
            ]
          },
          "metadata": {},
          "execution_count": 21
        },
        {
          "output_type": "display_data",
          "data": {
            "text/plain": [
              "<Figure size 288x216 with 1 Axes>"
            ],
            "image/png": "[encoded data removed]"
          },
          "metadata": {
            "needs_background": "light"
          }
        }
      ]
    },
    {
      "cell_type": "code",
      "source": [
        "f, plot = plt.subplots(figsize=(20, 3))\n",
        "plot = sns.countplot(x=\" education\", data=df, hue=\" income\", palette=\"bwr\")\n",
        "plot.set_title(\"Income by Education\")\n",
        "plt.show()"
      ],
      "metadata": {
        "colab": {
          "base_uri": "https://localhost:8080/",
          "height": 241
        },
        "id": "5zCso8PcHVPr",
        "outputId": "9cceafe1-85f9-4cff-8a2e-3ad99c73989c"
      },
      "execution_count": null,
      "outputs": [
        {
          "output_type": "display_data",
          "data": {
            "text/plain": [
              "<Figure size 1440x216 with 1 Axes>"
            ],
            "image/png": "[encoded data removed]"
          },
          "metadata": {
            "needs_background": "light"
          }
        }
      ]
    },
    {
      "cell_type": "markdown",
      "source": [
        "*For \">50k\" group, we can see that bachelors are significantly more frequent than the rest of theeducation categories, suggesting positive correlation between the two.*"
      ],
      "metadata": {
        "id": "KUXLAt48KZDe"
      }
    },
    {
      "cell_type": "markdown",
      "source": [
        "**Race column**"
      ],
      "metadata": {
        "id": "lQqOHxNDg5WU"
      }
    },
    {
      "cell_type": "code",
      "source": [
        "f, plot = plt.subplots(figsize=(4, 3))\n",
        "df[' race'].value_counts().plot.bar()\n",
        "plot.set_title(\"Race distribution\")"
      ],
      "metadata": {
        "colab": {
          "base_uri": "https://localhost:8080/",
          "height": 337
        },
        "id": "JXt9pAAbIB5X",
        "outputId": "e8dcc50a-b793-49da-c139-9ae3d92eda19"
      },
      "execution_count": null,
      "outputs": [
        {
          "output_type": "execute_result",
          "data": {
            "text/plain": [
              "Text(0.5, 1.0, 'Race distribution')"
            ]
          },
          "metadata": {},
          "execution_count": 23
        },
        {
          "output_type": "display_data",
          "data": {
            "text/plain": [
              "<Figure size 288x216 with 1 Axes>"
            ],
            "image/png": "[encoded data removed]"
          },
          "metadata": {
            "needs_background": "light"
          }
        }
      ]
    },
    {
      "cell_type": "code",
      "source": [
        "f, plot = plt.subplots(figsize=(5, 5))\n",
        "plot = sns.countplot(x=\" income\", hue=\" race\", data=df, palette=\"bwr\")\n",
        "plot.set_title(\"Income by Race\")\n",
        "plt.show()"
      ],
      "metadata": {
        "colab": {
          "base_uri": "https://localhost:8080/",
          "height": 350
        },
        "id": "iEXVnt0vtX-4",
        "outputId": "65c31b7c-521a-4b82-b9fa-6d2337b8be37"
      },
      "execution_count": null,
      "outputs": [
        {
          "output_type": "display_data",
          "data": {
            "text/plain": [
              "<Figure size 360x360 with 1 Axes>"
            ],
            "image/png": "[encoded data removed]"
          },
          "metadata": {
            "needs_background": "light"
          }
        }
      ]
    },
    {
      "cell_type": "markdown",
      "source": [
        "We can see that \"White\" dominate amongst the race variable."
      ],
      "metadata": {
        "id": "S6hhOiWncjKa"
      }
    },
    {
      "cell_type": "code",
      "source": [
        "df.corr().style.background_gradient(cmap=plt.get_cmap('bwr'), axis=1)"
      ],
      "metadata": {
        "colab": {
          "base_uri": "https://localhost:8080/",
          "height": 238
        },
        "id": "GD-SC672I8Lo",
        "outputId": "8012dde7-396f-498a-cb48-459b79d1a471"
      },
      "execution_count": null,
      "outputs": [
        {
          "output_type": "execute_result",
          "data": {
            "text/plain": [
              "<pandas.io.formats.style.Styler at 0x7f7767edd850>"
            ],
            "text/html": [
              "<style type=\"text/css\">\n",
              "#T_098d0_row0_col0, #T_098d0_row1_col1, #T_098d0_row2_col2, #T_098d0_row3_col3, #T_098d0_row4_col4, #T_098d0_row5_col5 {\n",
              "  background-color: #ff0000;\n",
              "  color: #f1f1f1;\n",
              "}\n",
              "#T_098d0_row0_col1, #T_098d0_row1_col0, #T_098d0_row2_col1, #T_098d0_row3_col4, #T_098d0_row4_col3, #T_098d0_row5_col1 {\n",
              "  background-color: #0000ff;\n",
              "  color: #f1f1f1;\n",
              "}\n",
              "#T_098d0_row0_col2 {\n",
              "  background-color: #3838ff;\n",
              "  color: #f1f1f1;\n",
              "}\n",
              "#T_098d0_row0_col3 {\n",
              "  background-color: #4a4aff;\n",
              "  color: #f1f1f1;\n",
              "}\n",
              "#T_098d0_row0_col4 {\n",
              "  background-color: #4040ff;\n",
              "  color: #f1f1f1;\n",
              "}\n",
              "#T_098d0_row0_col5 {\n",
              "  background-color: #5454ff;\n",
              "  color: #f1f1f1;\n",
              "}\n",
              "#T_098d0_row1_col2 {\n",
              "  background-color: #0e0eff;\n",
              "  color: #f1f1f1;\n",
              "}\n",
              "#T_098d0_row1_col3, #T_098d0_row5_col4 {\n",
              "  background-color: #2424ff;\n",
              "  color: #f1f1f1;\n",
              "}\n",
              "#T_098d0_row1_col4 {\n",
              "  background-color: #1e1eff;\n",
              "  color: #f1f1f1;\n",
              "}\n",
              "#T_098d0_row1_col5 {\n",
              "  background-color: #1818ff;\n",
              "  color: #f1f1f1;\n",
              "}\n",
              "#T_098d0_row2_col0 {\n",
              "  background-color: #2a2aff;\n",
              "  color: #f1f1f1;\n",
              "}\n",
              "#T_098d0_row2_col3 {\n",
              "  background-color: #5252ff;\n",
              "  color: #f1f1f1;\n",
              "}\n",
              "#T_098d0_row2_col4 {\n",
              "  background-color: #3c3cff;\n",
              "  color: #f1f1f1;\n",
              "}\n",
              "#T_098d0_row2_col5 {\n",
              "  background-color: #6060ff;\n",
              "  color: #f1f1f1;\n",
              "}\n",
              "#T_098d0_row3_col0, #T_098d0_row3_col5, #T_098d0_row4_col2 {\n",
              "  background-color: #3636ff;\n",
              "  color: #f1f1f1;\n",
              "}\n",
              "#T_098d0_row3_col1 {\n",
              "  background-color: #1010ff;\n",
              "  color: #f1f1f1;\n",
              "}\n",
              "#T_098d0_row3_col2 {\n",
              "  background-color: #4c4cff;\n",
              "  color: #f1f1f1;\n",
              "}\n",
              "#T_098d0_row4_col0 {\n",
              "  background-color: #2c2cff;\n",
              "  color: #f1f1f1;\n",
              "}\n",
              "#T_098d0_row4_col1 {\n",
              "  background-color: #0a0aff;\n",
              "  color: #f1f1f1;\n",
              "}\n",
              "#T_098d0_row4_col5 {\n",
              "  background-color: #2828ff;\n",
              "  color: #f1f1f1;\n",
              "}\n",
              "#T_098d0_row5_col0 {\n",
              "  background-color: #3e3eff;\n",
              "  color: #f1f1f1;\n",
              "}\n",
              "#T_098d0_row5_col2 {\n",
              "  background-color: #5858ff;\n",
              "  color: #f1f1f1;\n",
              "}\n",
              "#T_098d0_row5_col3 {\n",
              "  background-color: #3232ff;\n",
              "  color: #f1f1f1;\n",
              "}\n",
              "</style>\n",
              "<table id=\"T_098d0_\" class=\"dataframe\">\n",
              "  <thead>\n",
              "    <tr>\n",
              "      <th class=\"blank level0\" >&nbsp;</th>\n",
              "      <th class=\"col_heading level0 col0\" >age</th>\n",
              "      <th class=\"col_heading level0 col1\" > fnlwgt</th>\n",
              "      <th class=\"col_heading level0 col2\" > education-num</th>\n",
              "      <th class=\"col_heading level0 col3\" > capital-gain</th>\n",
              "      <th class=\"col_heading level0 col4\" > capital-loss</th>\n",
              "      <th class=\"col_heading level0 col5\" > hours-per-week</th>\n",
              "    </tr>\n",
              "  </thead>\n",
              "  <tbody>\n",
              "    <tr>\n",
              "      <th id=\"T_098d0_level0_row0\" class=\"row_heading level0 row0\" >age</th>\n",
              "      <td id=\"T_098d0_row0_col0\" class=\"data row0 col0\" >1.000000</td>\n",
              "      <td id=\"T_098d0_row0_col1\" class=\"data row0 col1\" >-0.076279</td>\n",
              "      <td id=\"T_098d0_row0_col2\" class=\"data row0 col2\" >0.043203</td>\n",
              "      <td id=\"T_098d0_row0_col3\" class=\"data row0 col3\" >0.080162</td>\n",
              "      <td id=\"T_098d0_row0_col4\" class=\"data row0 col4\" >0.060141</td>\n",
              "      <td id=\"T_098d0_row0_col5\" class=\"data row0 col5\" >0.101348</td>\n",
              "    </tr>\n",
              "    <tr>\n",
              "      <th id=\"T_098d0_level0_row1\" class=\"row_heading level0 row1\" > fnlwgt</th>\n",
              "      <td id=\"T_098d0_row1_col0\" class=\"data row1 col0\" >-0.076279</td>\n",
              "      <td id=\"T_098d0_row1_col1\" class=\"data row1 col1\" >1.000000</td>\n",
              "      <td id=\"T_098d0_row1_col2\" class=\"data row1 col2\" >-0.045199</td>\n",
              "      <td id=\"T_098d0_row1_col3\" class=\"data row1 col3\" >0.000420</td>\n",
              "      <td id=\"T_098d0_row1_col4\" class=\"data row1 col4\" >-0.009755</td>\n",
              "      <td id=\"T_098d0_row1_col5\" class=\"data row1 col5\" >-0.023033</td>\n",
              "    </tr>\n",
              "    <tr>\n",
              "      <th id=\"T_098d0_level0_row2\" class=\"row_heading level0 row2\" > education-num</th>\n",
              "      <td id=\"T_098d0_row2_col0\" class=\"data row2 col0\" >0.043203</td>\n",
              "      <td id=\"T_098d0_row2_col1\" class=\"data row2 col1\" >-0.045199</td>\n",
              "      <td id=\"T_098d0_row2_col2\" class=\"data row2 col2\" >1.000000</td>\n",
              "      <td id=\"T_098d0_row2_col3\" class=\"data row2 col3\" >0.124455</td>\n",
              "      <td id=\"T_098d0_row2_col4\" class=\"data row2 col4\" >0.079613</td>\n",
              "      <td id=\"T_098d0_row2_col5\" class=\"data row2 col5\" >0.152842</td>\n",
              "    </tr>\n",
              "    <tr>\n",
              "      <th id=\"T_098d0_level0_row3\" class=\"row_heading level0 row3\" > capital-gain</th>\n",
              "      <td id=\"T_098d0_row3_col0\" class=\"data row3 col0\" >0.080162</td>\n",
              "      <td id=\"T_098d0_row3_col1\" class=\"data row3 col1\" >0.000420</td>\n",
              "      <td id=\"T_098d0_row3_col2\" class=\"data row3 col2\" >0.124455</td>\n",
              "      <td id=\"T_098d0_row3_col3\" class=\"data row3 col3\" >1.000000</td>\n",
              "      <td id=\"T_098d0_row3_col4\" class=\"data row3 col4\" >-0.032255</td>\n",
              "      <td id=\"T_098d0_row3_col5\" class=\"data row3 col5\" >0.080429</td>\n",
              "    </tr>\n",
              "    <tr>\n",
              "      <th id=\"T_098d0_level0_row4\" class=\"row_heading level0 row4\" > capital-loss</th>\n",
              "      <td id=\"T_098d0_row4_col0\" class=\"data row4 col0\" >0.060141</td>\n",
              "      <td id=\"T_098d0_row4_col1\" class=\"data row4 col1\" >-0.009755</td>\n",
              "      <td id=\"T_098d0_row4_col2\" class=\"data row4 col2\" >0.079613</td>\n",
              "      <td id=\"T_098d0_row4_col3\" class=\"data row4 col3\" >-0.032255</td>\n",
              "      <td id=\"T_098d0_row4_col4\" class=\"data row4 col4\" >1.000000</td>\n",
              "      <td id=\"T_098d0_row4_col5\" class=\"data row4 col5\" >0.052380</td>\n",
              "    </tr>\n",
              "    <tr>\n",
              "      <th id=\"T_098d0_level0_row5\" class=\"row_heading level0 row5\" > hours-per-week</th>\n",
              "      <td id=\"T_098d0_row5_col0\" class=\"data row5 col0\" >0.101348</td>\n",
              "      <td id=\"T_098d0_row5_col1\" class=\"data row5 col1\" >-0.023033</td>\n",
              "      <td id=\"T_098d0_row5_col2\" class=\"data row5 col2\" >0.152842</td>\n",
              "      <td id=\"T_098d0_row5_col3\" class=\"data row5 col3\" >0.080429</td>\n",
              "      <td id=\"T_098d0_row5_col4\" class=\"data row5 col4\" >0.052380</td>\n",
              "      <td id=\"T_098d0_row5_col5\" class=\"data row5 col5\" >1.000000</td>\n",
              "    </tr>\n",
              "  </tbody>\n",
              "</table>\n"
            ]
          },
          "metadata": {},
          "execution_count": 25
        }
      ]
    },
    {
      "cell_type": "markdown",
      "source": [
        "*No strong correlation found between the numerical variables.*"
      ],
      "metadata": {
        "id": "JQromrRkc0Uk"
      }
    },
    {
      "cell_type": "markdown",
      "metadata": {
        "id": "GWvrYFJSwzi6"
      },
      "source": [
        "#**Data Inspection**"
      ]
    },
    {
      "cell_type": "code",
      "metadata": {
        "id": "cnqEtyl4w7jA",
        "colab": {
          "base_uri": "https://localhost:8080/",
          "height": 206
        },
        "outputId": "040351f3-7dfa-44a2-f6d6-6139ec2a9895"
      },
      "source": [
        "df.head()"
      ],
      "execution_count": null,
      "outputs": [
        {
          "output_type": "execute_result",
          "data": {
            "text/plain": [
              "   age          workclass   fnlwgt   education   education-num  \\\n",
              "0   39          State-gov    77516   Bachelors              13   \n",
              "1   50   Self-emp-not-inc    83311   Bachelors              13   \n",
              "2   38            Private   215646     HS-grad               9   \n",
              "3   53            Private   234721        11th               7   \n",
              "4   28            Private   338409   Bachelors              13   \n",
              "\n",
              "        marital-status          occupation    relationship    race      sex  \\\n",
              "0        Never-married        Adm-clerical   Not-in-family   White     Male   \n",
              "1   Married-civ-spouse     Exec-managerial         Husband   White     Male   \n",
              "2             Divorced   Handlers-cleaners   Not-in-family   White     Male   \n",
              "3   Married-civ-spouse   Handlers-cleaners         Husband   Black     Male   \n",
              "4   Married-civ-spouse      Prof-specialty            Wife   Black   Female   \n",
              "\n",
              "    capital-gain   capital-loss   hours-per-week  native-country  income  \n",
              "0           2174              0               40   United-States   <=50K  \n",
              "1              0              0               13   United-States   <=50K  \n",
              "2              0              0               40   United-States   <=50K  \n",
              "3              0              0               40   United-States   <=50K  \n",
              "4              0              0               40            Cuba   <=50K  "
            ],
            "text/html": [
              "\n",
              "  <div id=\"df-29955d40-caf1-4107-ac2e-caedea5c61a5\">\n",
              "    <div class=\"colab-df-container\">\n",
              "      <div>\n",
              "<style scoped>\n",
              "    .dataframe tbody tr th:only-of-type {\n",
              "        vertical-align: middle;\n",
              "    }\n",
              "\n",
              "    .dataframe tbody tr th {\n",
              "        vertical-align: top;\n",
              "    }\n",
              "\n",
              "    .dataframe thead th {\n",
              "        text-align: right;\n",
              "    }\n",
              "</style>\n",
              "<table border=\"1\" class=\"dataframe\">\n",
              "  <thead>\n",
              "    <tr style=\"text-align: right;\">\n",
              "      <th></th>\n",
              "      <th>age</th>\n",
              "      <th>workclass</th>\n",
              "      <th>fnlwgt</th>\n",
              "      <th>education</th>\n",
              "      <th>education-num</th>\n",
              "      <th>marital-status</th>\n",
              "      <th>occupation</th>\n",
              "      <th>relationship</th>\n",
              "      <th>race</th>\n",
              "      <th>sex</th>\n",
              "      <th>capital-gain</th>\n",
              "      <th>capital-loss</th>\n",
              "      <th>hours-per-week</th>\n",
              "      <th>native-country</th>\n",
              "      <th>income</th>\n",
              "    </tr>\n",
              "  </thead>\n",
              "  <tbody>\n",
              "    <tr>\n",
              "      <th>0</th>\n",
              "      <td>39</td>\n",
              "      <td>State-gov</td>\n",
              "      <td>77516</td>\n",
              "      <td>Bachelors</td>\n",
              "      <td>13</td>\n",
              "      <td>Never-married</td>\n",
              "      <td>Adm-clerical</td>\n",
              "      <td>Not-in-family</td>\n",
              "      <td>White</td>\n",
              "      <td>Male</td>\n",
              "      <td>2174</td>\n",
              "      <td>0</td>\n",
              "      <td>40</td>\n",
              "      <td>United-States</td>\n",
              "      <td>&lt;=50K</td>\n",
              "    </tr>\n",
              "    <tr>\n",
              "      <th>1</th>\n",
              "      <td>50</td>\n",
              "      <td>Self-emp-not-inc</td>\n",
              "      <td>83311</td>\n",
              "      <td>Bachelors</td>\n",
              "      <td>13</td>\n",
              "      <td>Married-civ-spouse</td>\n",
              "      <td>Exec-managerial</td>\n",
              "      <td>Husband</td>\n",
              "      <td>White</td>\n",
              "      <td>Male</td>\n",
              "      <td>0</td>\n",
              "      <td>0</td>\n",
              "      <td>13</td>\n",
              "      <td>United-States</td>\n",
              "      <td>&lt;=50K</td>\n",
              "    </tr>\n",
              "    <tr>\n",
              "      <th>2</th>\n",
              "      <td>38</td>\n",
              "      <td>Private</td>\n",
              "      <td>215646</td>\n",
              "      <td>HS-grad</td>\n",
              "      <td>9</td>\n",
              "      <td>Divorced</td>\n",
              "      <td>Handlers-cleaners</td>\n",
              "      <td>Not-in-family</td>\n",
              "      <td>White</td>\n",
              "      <td>Male</td>\n",
              "      <td>0</td>\n",
              "      <td>0</td>\n",
              "      <td>40</td>\n",
              "      <td>United-States</td>\n",
              "      <td>&lt;=50K</td>\n",
              "    </tr>\n",
              "    <tr>\n",
              "      <th>3</th>\n",
              "      <td>53</td>\n",
              "      <td>Private</td>\n",
              "      <td>234721</td>\n",
              "      <td>11th</td>\n",
              "      <td>7</td>\n",
              "      <td>Married-civ-spouse</td>\n",
              "      <td>Handlers-cleaners</td>\n",
              "      <td>Husband</td>\n",
              "      <td>Black</td>\n",
              "      <td>Male</td>\n",
              "      <td>0</td>\n",
              "      <td>0</td>\n",
              "      <td>40</td>\n",
              "      <td>United-States</td>\n",
              "      <td>&lt;=50K</td>\n",
              "    </tr>\n",
              "    <tr>\n",
              "      <th>4</th>\n",
              "      <td>28</td>\n",
              "      <td>Private</td>\n",
              "      <td>338409</td>\n",
              "      <td>Bachelors</td>\n",
              "      <td>13</td>\n",
              "      <td>Married-civ-spouse</td>\n",
              "      <td>Prof-specialty</td>\n",
              "      <td>Wife</td>\n",
              "      <td>Black</td>\n",
              "      <td>Female</td>\n",
              "      <td>0</td>\n",
              "      <td>0</td>\n",
              "      <td>40</td>\n",
              "      <td>Cuba</td>\n",
              "      <td>&lt;=50K</td>\n",
              "    </tr>\n",
              "  </tbody>\n",
              "</table>\n",
              "</div>\n",
              "      <button class=\"colab-df-convert\" onclick=\"convertToInteractive('df-29955d40-caf1-4107-ac2e-caedea5c61a5')\"\n",
              "              title=\"Convert this dataframe to an interactive table.\"\n",
              "              style=\"display:none;\">\n",
              "        \n",
              "  <svg xmlns=\"http://www.w3.org/2000/svg\" height=\"24px\"viewBox=\"0 0 24 24\"\n",
              "       width=\"24px\">\n",
              "    <path d=\"M0 0h24v24H0V0z\" fill=\"none\"/>\n",
              "    <path d=\"M18.56 5.44l.94 2.06.94-2.06 2.06-.94-2.06-.94-.94-2.06-.94 2.06-2.06.94zm-11 1L8.5 8.5l.94-2.06 2.06-.94-2.06-.94L8.5 2.5l-.94 2.06-2.06.94zm10 10l.94 2.06.94-2.06 2.06-.94-2.06-.94-.94-2.06-.94 2.06-2.06.94z\"/><path d=\"M17.41 7.96l-1.37-1.37c-.4-.4-.92-.59-1.43-.59-.52 0-1.04.2-1.43.59L10.3 9.45l-7.72 7.72c-.78.78-.78 2.05 0 2.83L4 21.41c.39.39.9.59 1.41.59.51 0 1.02-.2 1.41-.59l7.78-7.78 2.81-2.81c.8-.78.8-2.07 0-2.86zM5.41 20L4 18.59l7.72-7.72 1.47 1.35L5.41 20z\"/>\n",
              "  </svg>\n",
              "      </button>\n",
              "      \n",
              "  <style>\n",
              "    .colab-df-container {\n",
              "      display:flex;\n",
              "      flex-wrap:wrap;\n",
              "      gap: 12px;\n",
              "    }\n",
              "\n",
              "    .colab-df-convert {\n",
              "      background-color: #E8F0FE;\n",
              "      border: none;\n",
              "      border-radius: 50%;\n",
              "      cursor: pointer;\n",
              "      display: none;\n",
              "      fill: #1967D2;\n",
              "      height: 32px;\n",
              "      padding: 0 0 0 0;\n",
              "      width: 32px;\n",
              "    }\n",
              "\n",
              "    .colab-df-convert:hover {\n",
              "      background-color: #E2EBFA;\n",
              "      box-shadow: 0px 1px 2px rgba(60, 64, 67, 0.3), 0px 1px 3px 1px rgba(60, 64, 67, 0.15);\n",
              "      fill: #174EA6;\n",
              "    }\n",
              "\n",
              "    [theme=dark] .colab-df-convert {\n",
              "      background-color: #3B4455;\n",
              "      fill: #D2E3FC;\n",
              "    }\n",
              "\n",
              "    [theme=dark] .colab-df-convert:hover {\n",
              "      background-color: #434B5C;\n",
              "      box-shadow: 0px 1px 3px 1px rgba(0, 0, 0, 0.15);\n",
              "      filter: drop-shadow(0px 1px 2px rgba(0, 0, 0, 0.3));\n",
              "      fill: #FFFFFF;\n",
              "    }\n",
              "  </style>\n",
              "\n",
              "      <script>\n",
              "        const buttonEl =\n",
              "          document.querySelector('#df-29955d40-caf1-4107-ac2e-caedea5c61a5 button.colab-df-convert');\n",
              "        buttonEl.style.display =\n",
              "          google.colab.kernel.accessAllowed ? 'block' : 'none';\n",
              "\n",
              "        async function convertToInteractive(key) {\n",
              "          const element = document.querySelector('#df-29955d40-caf1-4107-ac2e-caedea5c61a5');\n",
              "          const dataTable =\n",
              "            await google.colab.kernel.invokeFunction('convertToInteractive',\n",
              "                                                     [key], {});\n",
              "          if (!dataTable) return;\n",
              "\n",
              "          const docLinkHtml = 'Like what you see? Visit the ' +\n",
              "            '<a target=\"_blank\" href=https://colab.research.google.com/notebooks/data_table.ipynb>data table notebook</a>'\n",
              "            + ' to learn more about interactive tables.';\n",
              "          element.innerHTML = '';\n",
              "          dataTable['output_type'] = 'display_data';\n",
              "          await google.colab.output.renderOutput(dataTable, element);\n",
              "          const docLink = document.createElement('div');\n",
              "          docLink.innerHTML = docLinkHtml;\n",
              "          element.appendChild(docLink);\n",
              "        }\n",
              "      </script>\n",
              "    </div>\n",
              "  </div>\n",
              "  "
            ]
          },
          "metadata": {},
          "execution_count": 28
        }
      ]
    },
    {
      "cell_type": "code",
      "source": [
        "df.describe()"
      ],
      "metadata": {
        "colab": {
          "base_uri": "https://localhost:8080/",
          "height": 300
        },
        "id": "NsGaxWJjq9-H",
        "outputId": "7056d863-0dcc-42fa-eece-268c5043fbb4"
      },
      "execution_count": null,
      "outputs": [
        {
          "output_type": "execute_result",
          "data": {
            "text/plain": [
              "                age        fnlwgt   education-num   capital-gain  \\\n",
              "count  30139.000000  3.013900e+04    30139.000000   30139.000000   \n",
              "mean      38.441720  1.897950e+05       10.122532    1092.841202   \n",
              "std       13.131426  1.056586e+05        2.548738    7409.110596   \n",
              "min       17.000000  1.376900e+04        1.000000       0.000000   \n",
              "25%       28.000000  1.176275e+05        9.000000       0.000000   \n",
              "50%       37.000000  1.784170e+05       10.000000       0.000000   \n",
              "75%       47.000000  2.376045e+05       13.000000       0.000000   \n",
              "max       90.000000  1.484705e+06       16.000000   99999.000000   \n",
              "\n",
              "        capital-loss   hours-per-week  \n",
              "count   30139.000000     30139.000000  \n",
              "mean       88.439928        40.934703  \n",
              "std       404.445239        11.978753  \n",
              "min         0.000000         1.000000  \n",
              "25%         0.000000        40.000000  \n",
              "50%         0.000000        40.000000  \n",
              "75%         0.000000        45.000000  \n",
              "max      4356.000000        99.000000  "
            ],
            "text/html": [
              "\n",
              "  <div id=\"df-74442fa4-7caf-4384-98ea-78d5cc6ef487\">\n",
              "    <div class=\"colab-df-container\">\n",
              "      <div>\n",
              "<style scoped>\n",
              "    .dataframe tbody tr th:only-of-type {\n",
              "        vertical-align: middle;\n",
              "    }\n",
              "\n",
              "    .dataframe tbody tr th {\n",
              "        vertical-align: top;\n",
              "    }\n",
              "\n",
              "    .dataframe thead th {\n",
              "        text-align: right;\n",
              "    }\n",
              "</style>\n",
              "<table border=\"1\" class=\"dataframe\">\n",
              "  <thead>\n",
              "    <tr style=\"text-align: right;\">\n",
              "      <th></th>\n",
              "      <th>age</th>\n",
              "      <th>fnlwgt</th>\n",
              "      <th>education-num</th>\n",
              "      <th>capital-gain</th>\n",
              "      <th>capital-loss</th>\n",
              "      <th>hours-per-week</th>\n",
              "    </tr>\n",
              "  </thead>\n",
              "  <tbody>\n",
              "    <tr>\n",
              "      <th>count</th>\n",
              "      <td>30139.000000</td>\n",
              "      <td>3.013900e+04</td>\n",
              "      <td>30139.000000</td>\n",
              "      <td>30139.000000</td>\n",
              "      <td>30139.000000</td>\n",
              "      <td>30139.000000</td>\n",
              "    </tr>\n",
              "    <tr>\n",
              "      <th>mean</th>\n",
              "      <td>38.441720</td>\n",
              "      <td>1.897950e+05</td>\n",
              "      <td>10.122532</td>\n",
              "      <td>1092.841202</td>\n",
              "      <td>88.439928</td>\n",
              "      <td>40.934703</td>\n",
              "    </tr>\n",
              "    <tr>\n",
              "      <th>std</th>\n",
              "      <td>13.131426</td>\n",
              "      <td>1.056586e+05</td>\n",
              "      <td>2.548738</td>\n",
              "      <td>7409.110596</td>\n",
              "      <td>404.445239</td>\n",
              "      <td>11.978753</td>\n",
              "    </tr>\n",
              "    <tr>\n",
              "      <th>min</th>\n",
              "      <td>17.000000</td>\n",
              "      <td>1.376900e+04</td>\n",
              "      <td>1.000000</td>\n",
              "      <td>0.000000</td>\n",
              "      <td>0.000000</td>\n",
              "      <td>1.000000</td>\n",
              "    </tr>\n",
              "    <tr>\n",
              "      <th>25%</th>\n",
              "      <td>28.000000</td>\n",
              "      <td>1.176275e+05</td>\n",
              "      <td>9.000000</td>\n",
              "      <td>0.000000</td>\n",
              "      <td>0.000000</td>\n",
              "      <td>40.000000</td>\n",
              "    </tr>\n",
              "    <tr>\n",
              "      <th>50%</th>\n",
              "      <td>37.000000</td>\n",
              "      <td>1.784170e+05</td>\n",
              "      <td>10.000000</td>\n",
              "      <td>0.000000</td>\n",
              "      <td>0.000000</td>\n",
              "      <td>40.000000</td>\n",
              "    </tr>\n",
              "    <tr>\n",
              "      <th>75%</th>\n",
              "      <td>47.000000</td>\n",
              "      <td>2.376045e+05</td>\n",
              "      <td>13.000000</td>\n",
              "      <td>0.000000</td>\n",
              "      <td>0.000000</td>\n",
              "      <td>45.000000</td>\n",
              "    </tr>\n",
              "    <tr>\n",
              "      <th>max</th>\n",
              "      <td>90.000000</td>\n",
              "      <td>1.484705e+06</td>\n",
              "      <td>16.000000</td>\n",
              "      <td>99999.000000</td>\n",
              "      <td>4356.000000</td>\n",
              "      <td>99.000000</td>\n",
              "    </tr>\n",
              "  </tbody>\n",
              "</table>\n",
              "</div>\n",
              "      <button class=\"colab-df-convert\" onclick=\"convertToInteractive('df-74442fa4-7caf-4384-98ea-78d5cc6ef487')\"\n",
              "              title=\"Convert this dataframe to an interactive table.\"\n",
              "              style=\"display:none;\">\n",
              "        \n",
              "  <svg xmlns=\"http://www.w3.org/2000/svg\" height=\"24px\"viewBox=\"0 0 24 24\"\n",
              "       width=\"24px\">\n",
              "    <path d=\"M0 0h24v24H0V0z\" fill=\"none\"/>\n",
              "    <path d=\"M18.56 5.44l.94 2.06.94-2.06 2.06-.94-2.06-.94-.94-2.06-.94 2.06-2.06.94zm-11 1L8.5 8.5l.94-2.06 2.06-.94-2.06-.94L8.5 2.5l-.94 2.06-2.06.94zm10 10l.94 2.06.94-2.06 2.06-.94-2.06-.94-.94-2.06-.94 2.06-2.06.94z\"/><path d=\"M17.41 7.96l-1.37-1.37c-.4-.4-.92-.59-1.43-.59-.52 0-1.04.2-1.43.59L10.3 9.45l-7.72 7.72c-.78.78-.78 2.05 0 2.83L4 21.41c.39.39.9.59 1.41.59.51 0 1.02-.2 1.41-.59l7.78-7.78 2.81-2.81c.8-.78.8-2.07 0-2.86zM5.41 20L4 18.59l7.72-7.72 1.47 1.35L5.41 20z\"/>\n",
              "  </svg>\n",
              "      </button>\n",
              "      \n",
              "  <style>\n",
              "    .colab-df-container {\n",
              "      display:flex;\n",
              "      flex-wrap:wrap;\n",
              "      gap: 12px;\n",
              "    }\n",
              "\n",
              "    .colab-df-convert {\n",
              "      background-color: #E8F0FE;\n",
              "      border: none;\n",
              "      border-radius: 50%;\n",
              "      cursor: pointer;\n",
              "      display: none;\n",
              "      fill: #1967D2;\n",
              "      height: 32px;\n",
              "      padding: 0 0 0 0;\n",
              "      width: 32px;\n",
              "    }\n",
              "\n",
              "    .colab-df-convert:hover {\n",
              "      background-color: #E2EBFA;\n",
              "      box-shadow: 0px 1px 2px rgba(60, 64, 67, 0.3), 0px 1px 3px 1px rgba(60, 64, 67, 0.15);\n",
              "      fill: #174EA6;\n",
              "    }\n",
              "\n",
              "    [theme=dark] .colab-df-convert {\n",
              "      background-color: #3B4455;\n",
              "      fill: #D2E3FC;\n",
              "    }\n",
              "\n",
              "    [theme=dark] .colab-df-convert:hover {\n",
              "      background-color: #434B5C;\n",
              "      box-shadow: 0px 1px 3px 1px rgba(0, 0, 0, 0.15);\n",
              "      filter: drop-shadow(0px 1px 2px rgba(0, 0, 0, 0.3));\n",
              "      fill: #FFFFFF;\n",
              "    }\n",
              "  </style>\n",
              "\n",
              "      <script>\n",
              "        const buttonEl =\n",
              "          document.querySelector('#df-74442fa4-7caf-4384-98ea-78d5cc6ef487 button.colab-df-convert');\n",
              "        buttonEl.style.display =\n",
              "          google.colab.kernel.accessAllowed ? 'block' : 'none';\n",
              "\n",
              "        async function convertToInteractive(key) {\n",
              "          const element = document.querySelector('#df-74442fa4-7caf-4384-98ea-78d5cc6ef487');\n",
              "          const dataTable =\n",
              "            await google.colab.kernel.invokeFunction('convertToInteractive',\n",
              "                                                     [key], {});\n",
              "          if (!dataTable) return;\n",
              "\n",
              "          const docLinkHtml = 'Like what you see? Visit the ' +\n",
              "            '<a target=\"_blank\" href=https://colab.research.google.com/notebooks/data_table.ipynb>data table notebook</a>'\n",
              "            + ' to learn more about interactive tables.';\n",
              "          element.innerHTML = '';\n",
              "          dataTable['output_type'] = 'display_data';\n",
              "          await google.colab.output.renderOutput(dataTable, element);\n",
              "          const docLink = document.createElement('div');\n",
              "          docLink.innerHTML = docLinkHtml;\n",
              "          element.appendChild(docLink);\n",
              "        }\n",
              "      </script>\n",
              "    </div>\n",
              "  </div>\n",
              "  "
            ]
          },
          "metadata": {},
          "execution_count": 29
        }
      ]
    },
    {
      "cell_type": "markdown",
      "metadata": {
        "id": "SQA_YN4Rnw5n"
      },
      "source": [
        "#**Data Preprocessing and Feature Selection**"
      ]
    },
    {
      "cell_type": "code",
      "metadata": {
        "id": "LelSdy9LE7e6"
      },
      "source": [
        "df_copy = df.copy()"
      ],
      "execution_count": null,
      "outputs": []
    },
    {
      "cell_type": "code",
      "metadata": {
        "id": "F-5ckFz93Lke"
      },
      "source": [
        "# creat dummy variables\n",
        "df_copy = pd.get_dummies(df)"
      ],
      "execution_count": null,
      "outputs": []
    },
    {
      "cell_type": "code",
      "metadata": {
        "id": "h5vEKqb-WiJl",
        "colab": {
          "base_uri": "https://localhost:8080/",
          "height": 314
        },
        "outputId": "71858eb6-3eff-488c-87d8-983c57f04fee"
      },
      "source": [
        "# rename columns\n",
        "df_copy = df_copy.rename(columns=({' income_ <=50K':'LowerEqual50',' income_ >50K':'Above50'}))\n",
        "df_copy.head()"
      ],
      "execution_count": null,
      "outputs": [
        {
          "output_type": "execute_result",
          "data": {
            "text/plain": [
              "   age   fnlwgt   education-num   capital-gain   capital-loss  \\\n",
              "0   39    77516              13           2174              0   \n",
              "1   50    83311              13              0              0   \n",
              "2   38   215646               9              0              0   \n",
              "3   53   234721               7              0              0   \n",
              "4   28   338409              13              0              0   \n",
              "\n",
              "    hours-per-week   workclass_ Federal-gov   workclass_ Local-gov  \\\n",
              "0               40                        0                      0   \n",
              "1               13                        0                      0   \n",
              "2               40                        0                      0   \n",
              "3               40                        0                      0   \n",
              "4               40                        0                      0   \n",
              "\n",
              "    workclass_ Private   workclass_ Self-emp-inc  ...  \\\n",
              "0                    0                         0  ...   \n",
              "1                    0                         0  ...   \n",
              "2                    1                         0  ...   \n",
              "3                    1                         0  ...   \n",
              "4                    1                         0  ...   \n",
              "\n",
              "    native-country_ Scotland   native-country_ South   native-country_ Taiwan  \\\n",
              "0                          0                       0                        0   \n",
              "1                          0                       0                        0   \n",
              "2                          0                       0                        0   \n",
              "3                          0                       0                        0   \n",
              "4                          0                       0                        0   \n",
              "\n",
              "    native-country_ Thailand   native-country_ Trinadad&Tobago  \\\n",
              "0                          0                                 0   \n",
              "1                          0                                 0   \n",
              "2                          0                                 0   \n",
              "3                          0                                 0   \n",
              "4                          0                                 0   \n",
              "\n",
              "    native-country_ United-States   native-country_ Vietnam  \\\n",
              "0                               1                         0   \n",
              "1                               1                         0   \n",
              "2                               1                         0   \n",
              "3                               1                         0   \n",
              "4                               0                         0   \n",
              "\n",
              "    native-country_ Yugoslavia  LowerEqual50  Above50  \n",
              "0                            0             1        0  \n",
              "1                            0             1        0  \n",
              "2                            0             1        0  \n",
              "3                            0             1        0  \n",
              "4                            0             1        0  \n",
              "\n",
              "[5 rows x 106 columns]"
            ],
            "text/html": [
              "\n",
              "  <div id=\"df-eaa37cba-5131-4b0e-b3b3-3a07646b0c6a\">\n",
              "    <div class=\"colab-df-container\">\n",
              "      <div>\n",
              "<style scoped>\n",
              "    .dataframe tbody tr th:only-of-type {\n",
              "        vertical-align: middle;\n",
              "    }\n",
              "\n",
              "    .dataframe tbody tr th {\n",
              "        vertical-align: top;\n",
              "    }\n",
              "\n",
              "    .dataframe thead th {\n",
              "        text-align: right;\n",
              "    }\n",
              "</style>\n",
              "<table border=\"1\" class=\"dataframe\">\n",
              "  <thead>\n",
              "    <tr style=\"text-align: right;\">\n",
              "      <th></th>\n",
              "      <th>age</th>\n",
              "      <th>fnlwgt</th>\n",
              "      <th>education-num</th>\n",
              "      <th>capital-gain</th>\n",
              "      <th>capital-loss</th>\n",
              "      <th>hours-per-week</th>\n",
              "      <th>workclass_ Federal-gov</th>\n",
              "      <th>workclass_ Local-gov</th>\n",
              "      <th>workclass_ Private</th>\n",
              "      <th>workclass_ Self-emp-inc</th>\n",
              "      <th>...</th>\n",
              "      <th>native-country_ Scotland</th>\n",
              "      <th>native-country_ South</th>\n",
              "      <th>native-country_ Taiwan</th>\n",
              "      <th>native-country_ Thailand</th>\n",
              "      <th>native-country_ Trinadad&amp;Tobago</th>\n",
              "      <th>native-country_ United-States</th>\n",
              "      <th>native-country_ Vietnam</th>\n",
              "      <th>native-country_ Yugoslavia</th>\n",
              "      <th>LowerEqual50</th>\n",
              "      <th>Above50</th>\n",
              "    </tr>\n",
              "  </thead>\n",
              "  <tbody>\n",
              "    <tr>\n",
              "      <th>0</th>\n",
              "      <td>39</td>\n",
              "      <td>77516</td>\n",
              "      <td>13</td>\n",
              "      <td>2174</td>\n",
              "      <td>0</td>\n",
              "      <td>40</td>\n",
              "      <td>0</td>\n",
              "      <td>0</td>\n",
              "      <td>0</td>\n",
              "      <td>0</td>\n",
              "      <td>...</td>\n",
              "      <td>0</td>\n",
              "      <td>0</td>\n",
              "      <td>0</td>\n",
              "      <td>0</td>\n",
              "      <td>0</td>\n",
              "      <td>1</td>\n",
              "      <td>0</td>\n",
              "      <td>0</td>\n",
              "      <td>1</td>\n",
              "      <td>0</td>\n",
              "    </tr>\n",
              "    <tr>\n",
              "      <th>1</th>\n",
              "      <td>50</td>\n",
              "      <td>83311</td>\n",
              "      <td>13</td>\n",
              "      <td>0</td>\n",
              "      <td>0</td>\n",
              "      <td>13</td>\n",
              "      <td>0</td>\n",
              "      <td>0</td>\n",
              "      <td>0</td>\n",
              "      <td>0</td>\n",
              "      <td>...</td>\n",
              "      <td>0</td>\n",
              "      <td>0</td>\n",
              "      <td>0</td>\n",
              "      <td>0</td>\n",
              "      <td>0</td>\n",
              "      <td>1</td>\n",
              "      <td>0</td>\n",
              "      <td>0</td>\n",
              "      <td>1</td>\n",
              "      <td>0</td>\n",
              "    </tr>\n",
              "    <tr>\n",
              "      <th>2</th>\n",
              "      <td>38</td>\n",
              "      <td>215646</td>\n",
              "      <td>9</td>\n",
              "      <td>0</td>\n",
              "      <td>0</td>\n",
              "      <td>40</td>\n",
              "      <td>0</td>\n",
              "      <td>0</td>\n",
              "      <td>1</td>\n",
              "      <td>0</td>\n",
              "      <td>...</td>\n",
              "      <td>0</td>\n",
              "      <td>0</td>\n",
              "      <td>0</td>\n",
              "      <td>0</td>\n",
              "      <td>0</td>\n",
              "      <td>1</td>\n",
              "      <td>0</td>\n",
              "      <td>0</td>\n",
              "      <td>1</td>\n",
              "      <td>0</td>\n",
              "    </tr>\n",
              "    <tr>\n",
              "      <th>3</th>\n",
              "      <td>53</td>\n",
              "      <td>234721</td>\n",
              "      <td>7</td>\n",
              "      <td>0</td>\n",
              "      <td>0</td>\n",
              "      <td>40</td>\n",
              "      <td>0</td>\n",
              "      <td>0</td>\n",
              "      <td>1</td>\n",
              "      <td>0</td>\n",
              "      <td>...</td>\n",
              "      <td>0</td>\n",
              "      <td>0</td>\n",
              "      <td>0</td>\n",
              "      <td>0</td>\n",
              "      <td>0</td>\n",
              "      <td>1</td>\n",
              "      <td>0</td>\n",
              "      <td>0</td>\n",
              "      <td>1</td>\n",
              "      <td>0</td>\n",
              "    </tr>\n",
              "    <tr>\n",
              "      <th>4</th>\n",
              "      <td>28</td>\n",
              "      <td>338409</td>\n",
              "      <td>13</td>\n",
              "      <td>0</td>\n",
              "      <td>0</td>\n",
              "      <td>40</td>\n",
              "      <td>0</td>\n",
              "      <td>0</td>\n",
              "      <td>1</td>\n",
              "      <td>0</td>\n",
              "      <td>...</td>\n",
              "      <td>0</td>\n",
              "      <td>0</td>\n",
              "      <td>0</td>\n",
              "      <td>0</td>\n",
              "      <td>0</td>\n",
              "      <td>0</td>\n",
              "      <td>0</td>\n",
              "      <td>0</td>\n",
              "      <td>1</td>\n",
              "      <td>0</td>\n",
              "    </tr>\n",
              "  </tbody>\n",
              "</table>\n",
              "<p>5 rows × 106 columns</p>\n",
              "</div>\n",
              "      <button class=\"colab-df-convert\" onclick=\"convertToInteractive('df-eaa37cba-5131-4b0e-b3b3-3a07646b0c6a')\"\n",
              "              title=\"Convert this dataframe to an interactive table.\"\n",
              "              style=\"display:none;\">\n",
              "        \n",
              "  <svg xmlns=\"http://www.w3.org/2000/svg\" height=\"24px\"viewBox=\"0 0 24 24\"\n",
              "       width=\"24px\">\n",
              "    <path d=\"M0 0h24v24H0V0z\" fill=\"none\"/>\n",
              "    <path d=\"M18.56 5.44l.94 2.06.94-2.06 2.06-.94-2.06-.94-.94-2.06-.94 2.06-2.06.94zm-11 1L8.5 8.5l.94-2.06 2.06-.94-2.06-.94L8.5 2.5l-.94 2.06-2.06.94zm10 10l.94 2.06.94-2.06 2.06-.94-2.06-.94-.94-2.06-.94 2.06-2.06.94z\"/><path d=\"M17.41 7.96l-1.37-1.37c-.4-.4-.92-.59-1.43-.59-.52 0-1.04.2-1.43.59L10.3 9.45l-7.72 7.72c-.78.78-.78 2.05 0 2.83L4 21.41c.39.39.9.59 1.41.59.51 0 1.02-.2 1.41-.59l7.78-7.78 2.81-2.81c.8-.78.8-2.07 0-2.86zM5.41 20L4 18.59l7.72-7.72 1.47 1.35L5.41 20z\"/>\n",
              "  </svg>\n",
              "      </button>\n",
              "      \n",
              "  <style>\n",
              "    .colab-df-container {\n",
              "      display:flex;\n",
              "      flex-wrap:wrap;\n",
              "      gap: 12px;\n",
              "    }\n",
              "\n",
              "    .colab-df-convert {\n",
              "      background-color: #E8F0FE;\n",
              "      border: none;\n",
              "      border-radius: 50%;\n",
              "      cursor: pointer;\n",
              "      display: none;\n",
              "      fill: #1967D2;\n",
              "      height: 32px;\n",
              "      padding: 0 0 0 0;\n",
              "      width: 32px;\n",
              "    }\n",
              "\n",
              "    .colab-df-convert:hover {\n",
              "      background-color: #E2EBFA;\n",
              "      box-shadow: 0px 1px 2px rgba(60, 64, 67, 0.3), 0px 1px 3px 1px rgba(60, 64, 67, 0.15);\n",
              "      fill: #174EA6;\n",
              "    }\n",
              "\n",
              "    [theme=dark] .colab-df-convert {\n",
              "      background-color: #3B4455;\n",
              "      fill: #D2E3FC;\n",
              "    }\n",
              "\n",
              "    [theme=dark] .colab-df-convert:hover {\n",
              "      background-color: #434B5C;\n",
              "      box-shadow: 0px 1px 3px 1px rgba(0, 0, 0, 0.15);\n",
              "      filter: drop-shadow(0px 1px 2px rgba(0, 0, 0, 0.3));\n",
              "      fill: #FFFFFF;\n",
              "    }\n",
              "  </style>\n",
              "\n",
              "      <script>\n",
              "        const buttonEl =\n",
              "          document.querySelector('#df-eaa37cba-5131-4b0e-b3b3-3a07646b0c6a button.colab-df-convert');\n",
              "        buttonEl.style.display =\n",
              "          google.colab.kernel.accessAllowed ? 'block' : 'none';\n",
              "\n",
              "        async function convertToInteractive(key) {\n",
              "          const element = document.querySelector('#df-eaa37cba-5131-4b0e-b3b3-3a07646b0c6a');\n",
              "          const dataTable =\n",
              "            await google.colab.kernel.invokeFunction('convertToInteractive',\n",
              "                                                     [key], {});\n",
              "          if (!dataTable) return;\n",
              "\n",
              "          const docLinkHtml = 'Like what you see? Visit the ' +\n",
              "            '<a target=\"_blank\" href=https://colab.research.google.com/notebooks/data_table.ipynb>data table notebook</a>'\n",
              "            + ' to learn more about interactive tables.';\n",
              "          element.innerHTML = '';\n",
              "          dataTable['output_type'] = 'display_data';\n",
              "          await google.colab.output.renderOutput(dataTable, element);\n",
              "          const docLink = document.createElement('div');\n",
              "          docLink.innerHTML = docLinkHtml;\n",
              "          element.appendChild(docLink);\n",
              "        }\n",
              "      </script>\n",
              "    </div>\n",
              "  </div>\n",
              "  "
            ]
          },
          "metadata": {},
          "execution_count": 32
        }
      ]
    },
    {
      "cell_type": "code",
      "metadata": {
        "id": "t2Ug2SQRMnDs"
      },
      "source": [
        "# declare feature vector and target variable\n",
        "y = df_copy['Above50']\n",
        "x = df_copy.drop(columns=['LowerEqual50','Above50'])\n",
        "label = 'Above50'"
      ],
      "execution_count": null,
      "outputs": []
    },
    {
      "cell_type": "code",
      "metadata": {
        "id": "gr3mGjjEM1FY"
      },
      "source": [
        "# Create a function that choose a subset of the existing features which are the most \"important\":\n",
        "\n",
        "def get_best_features(x_train,y_train,num_of_features,features_names):\n",
        "  selector = SelectKBest(chi2, k=num_of_features) # initiate the transformer \n",
        "  fit = selector.fit_transform(x_train, y_train) # fit it to our data\n",
        "  mask = selector.get_support() # list of booleans (i.e. if the features under/above threshold (true/false))\n",
        "  new_features = [] # list of K best features\n",
        "\n",
        "  for bool, feature in zip(mask, features_names):\n",
        "    if bool:\n",
        "      new_features.append(feature)\n",
        "  return pd.DataFrame(x_train, columns=new_features)"
      ],
      "execution_count": null,
      "outputs": []
    },
    {
      "cell_type": "code",
      "metadata": {
        "id": "EXRKhdCCb7_w"
      },
      "source": [
        "# split the dataset\n",
        "x_train, x_test, y_train,y_test = train_test_split(x,y,test_size = 0.30,random_state = 42)"
      ],
      "execution_count": null,
      "outputs": []
    },
    {
      "cell_type": "code",
      "metadata": {
        "id": "IAKgoVhROzff"
      },
      "source": [
        "# extract columns names\n",
        "features_names = list(x_train.columns)"
      ],
      "execution_count": null,
      "outputs": []
    },
    {
      "cell_type": "code",
      "metadata": {
        "id": "TZBMMJ6p4tjf"
      },
      "source": [
        "# balance the dataset\n",
        "smote = SMOTE(random_state=42)\n",
        "x_train, y_train = smote.fit_resample(x_train, y_train)"
      ],
      "execution_count": null,
      "outputs": []
    },
    {
      "cell_type": "code",
      "metadata": {
        "id": "QUcV5_h535A_",
        "colab": {
          "base_uri": "https://localhost:8080/",
          "height": 241
        },
        "outputId": "33060e42-89a2-4d28-885a-9a72c9de7814"
      },
      "source": [
        "# verify the dataset is balanced \n",
        "plt.figure(figsize = (4, 3))\n",
        "sns.countplot(y_train) \n",
        "plt.title('LowerEqual50k Vs. Above50k After SMOTE')\n",
        "plt.show()"
      ],
      "execution_count": null,
      "outputs": [
        {
          "output_type": "display_data",
          "data": {
            "text/plain": [
              "<Figure size 288x216 with 1 Axes>"
            ],
            "image/png": "[encoded data removed]"
          },
          "metadata": {
            "needs_background": "light"
          }
        }
      ]
    },
    {
      "cell_type": "code",
      "source": [
        "# display new dataset with the new columns (i.e. the best features)\n",
        "get_best_features(x_train,y_train,50,features_names).head()"
      ],
      "metadata": {
        "colab": {
          "base_uri": "https://localhost:8080/",
          "height": 314
        },
        "id": "SWcujmLdfG5u",
        "outputId": "3dbf9dd7-2d0b-4ff9-95f1-ae592ad85fb2"
      },
      "execution_count": null,
      "outputs": [
        {
          "output_type": "execute_result",
          "data": {
            "text/plain": [
              "   age   fnlwgt   education-num   capital-gain   capital-loss  \\\n",
              "0   39   181943              13              0              0   \n",
              "1   34   269723               9           2977              0   \n",
              "2   47   297884               6              0              0   \n",
              "3   48   147860               9              0              0   \n",
              "4   44   344060              15              0              0   \n",
              "\n",
              "    hours-per-week   workclass_ Local-gov   workclass_ Private  \\\n",
              "0               35                      0                    1   \n",
              "1               50                      0                    1   \n",
              "2               40                      0                    1   \n",
              "3               40                      0                    1   \n",
              "4               40                      0                    0   \n",
              "\n",
              "    workclass_ Self-emp-not-inc   workclass_ State-gov  ...  \\\n",
              "0                             0                      0  ...   \n",
              "1                             0                      0  ...   \n",
              "2                             0                      0  ...   \n",
              "3                             0                      0  ...   \n",
              "4                             0                      0  ...   \n",
              "\n",
              "    relationship_ Other-relative   relationship_ Own-child  \\\n",
              "0                              0                         0   \n",
              "1                              0                         0   \n",
              "2                              0                         0   \n",
              "3                              0                         0   \n",
              "4                              0                         0   \n",
              "\n",
              "    relationship_ Unmarried   race_ Amer-Indian-Eskimo  \\\n",
              "0                         0                          0   \n",
              "1                         1                          0   \n",
              "2                         0                          0   \n",
              "3                         0                          0   \n",
              "4                         0                          0   \n",
              "\n",
              "    race_ Asian-Pac-Islander   race_ Black   race_ Other   sex_ Female  \\\n",
              "0                          0             0             0             1   \n",
              "1                          0             0             0             1   \n",
              "2                          0             0             0             0   \n",
              "3                          0             1             0             1   \n",
              "4                          0             0             0             0   \n",
              "\n",
              "    sex_ Male   native-country_ Mexico  \n",
              "0           0                        0  \n",
              "1           0                        0  \n",
              "2           1                        0  \n",
              "3           0                        0  \n",
              "4           1                        0  \n",
              "\n",
              "[5 rows x 50 columns]"
            ],
            "text/html": [
              "\n",
              "  <div id=\"df-19e33110-b32a-4836-880b-e6ee4bb30471\">\n",
              "    <div class=\"colab-df-container\">\n",
              "      <div>\n",
              "<style scoped>\n",
              "    .dataframe tbody tr th:only-of-type {\n",
              "        vertical-align: middle;\n",
              "    }\n",
              "\n",
              "    .dataframe tbody tr th {\n",
              "        vertical-align: top;\n",
              "    }\n",
              "\n",
              "    .dataframe thead th {\n",
              "        text-align: right;\n",
              "    }\n",
              "</style>\n",
              "<table border=\"1\" class=\"dataframe\">\n",
              "  <thead>\n",
              "    <tr style=\"text-align: right;\">\n",
              "      <th></th>\n",
              "      <th>age</th>\n",
              "      <th>fnlwgt</th>\n",
              "      <th>education-num</th>\n",
              "      <th>capital-gain</th>\n",
              "      <th>capital-loss</th>\n",
              "      <th>hours-per-week</th>\n",
              "      <th>workclass_ Local-gov</th>\n",
              "      <th>workclass_ Private</th>\n",
              "      <th>workclass_ Self-emp-not-inc</th>\n",
              "      <th>workclass_ State-gov</th>\n",
              "      <th>...</th>\n",
              "      <th>relationship_ Other-relative</th>\n",
              "      <th>relationship_ Own-child</th>\n",
              "      <th>relationship_ Unmarried</th>\n",
              "      <th>race_ Amer-Indian-Eskimo</th>\n",
              "      <th>race_ Asian-Pac-Islander</th>\n",
              "      <th>race_ Black</th>\n",
              "      <th>race_ Other</th>\n",
              "      <th>sex_ Female</th>\n",
              "      <th>sex_ Male</th>\n",
              "      <th>native-country_ Mexico</th>\n",
              "    </tr>\n",
              "  </thead>\n",
              "  <tbody>\n",
              "    <tr>\n",
              "      <th>0</th>\n",
              "      <td>39</td>\n",
              "      <td>181943</td>\n",
              "      <td>13</td>\n",
              "      <td>0</td>\n",
              "      <td>0</td>\n",
              "      <td>35</td>\n",
              "      <td>0</td>\n",
              "      <td>1</td>\n",
              "      <td>0</td>\n",
              "      <td>0</td>\n",
              "      <td>...</td>\n",
              "      <td>0</td>\n",
              "      <td>0</td>\n",
              "      <td>0</td>\n",
              "      <td>0</td>\n",
              "      <td>0</td>\n",
              "      <td>0</td>\n",
              "      <td>0</td>\n",
              "      <td>1</td>\n",
              "      <td>0</td>\n",
              "      <td>0</td>\n",
              "    </tr>\n",
              "    <tr>\n",
              "      <th>1</th>\n",
              "      <td>34</td>\n",
              "      <td>269723</td>\n",
              "      <td>9</td>\n",
              "      <td>2977</td>\n",
              "      <td>0</td>\n",
              "      <td>50</td>\n",
              "      <td>0</td>\n",
              "      <td>1</td>\n",
              "      <td>0</td>\n",
              "      <td>0</td>\n",
              "      <td>...</td>\n",
              "      <td>0</td>\n",
              "      <td>0</td>\n",
              "      <td>1</td>\n",
              "      <td>0</td>\n",
              "      <td>0</td>\n",
              "      <td>0</td>\n",
              "      <td>0</td>\n",
              "      <td>1</td>\n",
              "      <td>0</td>\n",
              "      <td>0</td>\n",
              "    </tr>\n",
              "    <tr>\n",
              "      <th>2</th>\n",
              "      <td>47</td>\n",
              "      <td>297884</td>\n",
              "      <td>6</td>\n",
              "      <td>0</td>\n",
              "      <td>0</td>\n",
              "      <td>40</td>\n",
              "      <td>0</td>\n",
              "      <td>1</td>\n",
              "      <td>0</td>\n",
              "      <td>0</td>\n",
              "      <td>...</td>\n",
              "      <td>0</td>\n",
              "      <td>0</td>\n",
              "      <td>0</td>\n",
              "      <td>0</td>\n",
              "      <td>0</td>\n",
              "      <td>0</td>\n",
              "      <td>0</td>\n",
              "      <td>0</td>\n",
              "      <td>1</td>\n",
              "      <td>0</td>\n",
              "    </tr>\n",
              "    <tr>\n",
              "      <th>3</th>\n",
              "      <td>48</td>\n",
              "      <td>147860</td>\n",
              "      <td>9</td>\n",
              "      <td>0</td>\n",
              "      <td>0</td>\n",
              "      <td>40</td>\n",
              "      <td>0</td>\n",
              "      <td>1</td>\n",
              "      <td>0</td>\n",
              "      <td>0</td>\n",
              "      <td>...</td>\n",
              "      <td>0</td>\n",
              "      <td>0</td>\n",
              "      <td>0</td>\n",
              "      <td>0</td>\n",
              "      <td>0</td>\n",
              "      <td>1</td>\n",
              "      <td>0</td>\n",
              "      <td>1</td>\n",
              "      <td>0</td>\n",
              "      <td>0</td>\n",
              "    </tr>\n",
              "    <tr>\n",
              "      <th>4</th>\n",
              "      <td>44</td>\n",
              "      <td>344060</td>\n",
              "      <td>15</td>\n",
              "      <td>0</td>\n",
              "      <td>0</td>\n",
              "      <td>40</td>\n",
              "      <td>0</td>\n",
              "      <td>0</td>\n",
              "      <td>0</td>\n",
              "      <td>0</td>\n",
              "      <td>...</td>\n",
              "      <td>0</td>\n",
              "      <td>0</td>\n",
              "      <td>0</td>\n",
              "      <td>0</td>\n",
              "      <td>0</td>\n",
              "      <td>0</td>\n",
              "      <td>0</td>\n",
              "      <td>0</td>\n",
              "      <td>1</td>\n",
              "      <td>0</td>\n",
              "    </tr>\n",
              "  </tbody>\n",
              "</table>\n",
              "<p>5 rows × 50 columns</p>\n",
              "</div>\n",
              "      <button class=\"colab-df-convert\" onclick=\"convertToInteractive('df-19e33110-b32a-4836-880b-e6ee4bb30471')\"\n",
              "              title=\"Convert this dataframe to an interactive table.\"\n",
              "              style=\"display:none;\">\n",
              "        \n",
              "  <svg xmlns=\"http://www.w3.org/2000/svg\" height=\"24px\"viewBox=\"0 0 24 24\"\n",
              "       width=\"24px\">\n",
              "    <path d=\"M0 0h24v24H0V0z\" fill=\"none\"/>\n",
              "    <path d=\"M18.56 5.44l.94 2.06.94-2.06 2.06-.94-2.06-.94-.94-2.06-.94 2.06-2.06.94zm-11 1L8.5 8.5l.94-2.06 2.06-.94-2.06-.94L8.5 2.5l-.94 2.06-2.06.94zm10 10l.94 2.06.94-2.06 2.06-.94-2.06-.94-.94-2.06-.94 2.06-2.06.94z\"/><path d=\"M17.41 7.96l-1.37-1.37c-.4-.4-.92-.59-1.43-.59-.52 0-1.04.2-1.43.59L10.3 9.45l-7.72 7.72c-.78.78-.78 2.05 0 2.83L4 21.41c.39.39.9.59 1.41.59.51 0 1.02-.2 1.41-.59l7.78-7.78 2.81-2.81c.8-.78.8-2.07 0-2.86zM5.41 20L4 18.59l7.72-7.72 1.47 1.35L5.41 20z\"/>\n",
              "  </svg>\n",
              "      </button>\n",
              "      \n",
              "  <style>\n",
              "    .colab-df-container {\n",
              "      display:flex;\n",
              "      flex-wrap:wrap;\n",
              "      gap: 12px;\n",
              "    }\n",
              "\n",
              "    .colab-df-convert {\n",
              "      background-color: #E8F0FE;\n",
              "      border: none;\n",
              "      border-radius: 50%;\n",
              "      cursor: pointer;\n",
              "      display: none;\n",
              "      fill: #1967D2;\n",
              "      height: 32px;\n",
              "      padding: 0 0 0 0;\n",
              "      width: 32px;\n",
              "    }\n",
              "\n",
              "    .colab-df-convert:hover {\n",
              "      background-color: #E2EBFA;\n",
              "      box-shadow: 0px 1px 2px rgba(60, 64, 67, 0.3), 0px 1px 3px 1px rgba(60, 64, 67, 0.15);\n",
              "      fill: #174EA6;\n",
              "    }\n",
              "\n",
              "    [theme=dark] .colab-df-convert {\n",
              "      background-color: #3B4455;\n",
              "      fill: #D2E3FC;\n",
              "    }\n",
              "\n",
              "    [theme=dark] .colab-df-convert:hover {\n",
              "      background-color: #434B5C;\n",
              "      box-shadow: 0px 1px 3px 1px rgba(0, 0, 0, 0.15);\n",
              "      filter: drop-shadow(0px 1px 2px rgba(0, 0, 0, 0.3));\n",
              "      fill: #FFFFFF;\n",
              "    }\n",
              "  </style>\n",
              "\n",
              "      <script>\n",
              "        const buttonEl =\n",
              "          document.querySelector('#df-19e33110-b32a-4836-880b-e6ee4bb30471 button.colab-df-convert');\n",
              "        buttonEl.style.display =\n",
              "          google.colab.kernel.accessAllowed ? 'block' : 'none';\n",
              "\n",
              "        async function convertToInteractive(key) {\n",
              "          const element = document.querySelector('#df-19e33110-b32a-4836-880b-e6ee4bb30471');\n",
              "          const dataTable =\n",
              "            await google.colab.kernel.invokeFunction('convertToInteractive',\n",
              "                                                     [key], {});\n",
              "          if (!dataTable) return;\n",
              "\n",
              "          const docLinkHtml = 'Like what you see? Visit the ' +\n",
              "            '<a target=\"_blank\" href=https://colab.research.google.com/notebooks/data_table.ipynb>data table notebook</a>'\n",
              "            + ' to learn more about interactive tables.';\n",
              "          element.innerHTML = '';\n",
              "          dataTable['output_type'] = 'display_data';\n",
              "          await google.colab.output.renderOutput(dataTable, element);\n",
              "          const docLink = document.createElement('div');\n",
              "          docLink.innerHTML = docLinkHtml;\n",
              "          element.appendChild(docLink);\n",
              "        }\n",
              "      </script>\n",
              "    </div>\n",
              "  </div>\n",
              "  "
            ]
          },
          "metadata": {},
          "execution_count": 39
        }
      ]
    },
    {
      "cell_type": "code",
      "source": [
        "# display the portion of new columns (i.e. the best features) out of total columns\n",
        "len(get_best_features(x_train,y_train,50,features_names).columns)/len(df_copy.columns)"
      ],
      "metadata": {
        "colab": {
          "base_uri": "https://localhost:8080/"
        },
        "id": "D0mMlERbKCYr",
        "outputId": "c19cd500-5c2f-4c10-b70c-c15adde4f9c5"
      },
      "execution_count": null,
      "outputs": [
        {
          "output_type": "execute_result",
          "data": {
            "text/plain": [
              "0.4716981132075472"
            ]
          },
          "metadata": {},
          "execution_count": 40
        }
      ]
    },
    {
      "cell_type": "code",
      "metadata": {
        "id": "OLmXXfsXN-Cf"
      },
      "source": [
        "# create new dataset with the new columns (i.e. the best features)\n",
        "x_train_k_sel = get_best_features(x_train,y_train,50,features_names)"
      ],
      "execution_count": null,
      "outputs": []
    },
    {
      "cell_type": "markdown",
      "metadata": {
        "id": "A3_85_ONoEZm"
      },
      "source": [
        "#**Classification by Different Models**"
      ]
    },
    {
      "cell_type": "code",
      "metadata": {
        "id": "il3HJCC6l-DW"
      },
      "source": [
        "# create scores dataframe \n",
        "title = ['Accuracy Score','f1']\n",
        "df_pred = pd.DataFrame(columns=title) \n",
        "\n",
        "# create function that add scores results to dataframe\n",
        "def append_row(df_pred,index_name,data):\n",
        "  df_pred.loc[index_name] = data"
      ],
      "execution_count": null,
      "outputs": []
    },
    {
      "cell_type": "markdown",
      "metadata": {
        "id": "HOPz-4_rVKNu"
      },
      "source": [
        "##**1.Random Forest Classifier**"
      ]
    },
    {
      "cell_type": "markdown",
      "metadata": {
        "id": "VnusGCKEeUmy"
      },
      "source": [
        "##**1.1 Without Feature Selection + 100 estimators**"
      ]
    },
    {
      "cell_type": "markdown",
      "metadata": {
        "id": "R-AEgaCMY4lP"
      },
      "source": [
        "*Random Forest Classifier model, with 100 estimators, and without Feature Selection (i.e. using - x_train):*"
      ]
    },
    {
      "cell_type": "code",
      "metadata": {
        "colab": {
          "base_uri": "https://localhost:8080/"
        },
        "outputId": "b73d4520-9063-4dd3-f583-9bcedc5cfbb3",
        "id": "12ctLjJKH7x6"
      },
      "source": [
        "# instantiate the classifier \n",
        "rfc = RandomForestClassifier(random_state=0,n_estimators=100)\n",
        "# fit the model\n",
        "rfc.fit(x_train, y_train)"
      ],
      "execution_count": null,
      "outputs": [
        {
          "output_type": "execute_result",
          "data": {
            "text/plain": [
              "RandomForestClassifier(random_state=0)"
            ]
          },
          "metadata": {},
          "execution_count": 44
        }
      ]
    },
    {
      "cell_type": "code",
      "metadata": {
        "colab": {
          "base_uri": "https://localhost:8080/"
        },
        "outputId": "8c17ab9a-c907-498c-86a0-a75e01658d43",
        "id": "We1DenlyH7x-"
      },
      "source": [
        "# predict with the model\n",
        "y_pred = rfc.predict(x_test)\n",
        "# score the model\n",
        "acc = accuracy_score(y_test, y_pred)\n",
        "f1 = f1_score(y_test, y_pred)\n",
        "# add scores results to dataframe\n",
        "append_row(df_pred,'RF_100',(acc,f1))\n",
        "\n",
        "acc"
      ],
      "execution_count": null,
      "outputs": [
        {
          "output_type": "execute_result",
          "data": {
            "text/plain": [
              "0.8530192435301924"
            ]
          },
          "metadata": {},
          "execution_count": 45
        }
      ]
    },
    {
      "cell_type": "markdown",
      "metadata": {
        "id": "sYqHUdbxH7x_"
      },
      "source": [
        "###**1.1.1 Model Validation**"
      ]
    },
    {
      "cell_type": "code",
      "metadata": {
        "colab": {
          "base_uri": "https://localhost:8080/",
          "height": 282
        },
        "outputId": "23673f5c-4eb2-4241-9ca9-713cb74747ef",
        "id": "S2vGokSTH7x_"
      },
      "source": [
        "con_mat = confusion_matrix(y_test,y_pred)\n",
        "con_mat = pd.DataFrame(con_mat, columns=['Actual Income >50K' ,'Actual Income <=50K'], \n",
        "                                 index=['Predict Income >50K' , 'Predict Income <=50K'])\n",
        "sns.heatmap(con_mat, annot=True, fmt='d', cmap='PuBu')"
      ],
      "execution_count": null,
      "outputs": [
        {
          "output_type": "execute_result",
          "data": {
            "text/plain": [
              "<matplotlib.axes._subplots.AxesSubplot at 0x7f7767b66bd0>"
            ]
          },
          "metadata": {},
          "execution_count": 46
        },
        {
          "output_type": "display_data",
          "data": {
            "text/plain": [
              "<Figure size 432x288 with 2 Axes>"
            ],
            "image/png": "[encoded data removed]"
          },
          "metadata": {
            "needs_background": "light"
          }
        }
      ]
    },
    {
      "cell_type": "code",
      "metadata": {
        "colab": {
          "base_uri": "https://localhost:8080/"
        },
        "outputId": "20728772-7ed5-4aa5-98b9-33a57647bdd8",
        "id": "Udp1yj0rH7yA"
      },
      "source": [
        "print(classification_report(y_test,y_pred))"
      ],
      "execution_count": null,
      "outputs": [
        {
          "output_type": "stream",
          "name": "stdout",
          "text": [
            "              precision    recall  f1-score   support\n",
            "\n",
            "           0       0.89      0.92      0.90      6749\n",
            "           1       0.73      0.66      0.69      2293\n",
            "\n",
            "    accuracy                           0.85      9042\n",
            "   macro avg       0.81      0.79      0.80      9042\n",
            "weighted avg       0.85      0.85      0.85      9042\n",
            "\n"
          ]
        }
      ]
    },
    {
      "cell_type": "markdown",
      "source": [
        "##**1.2 Without Feature Selection + 200 estimators**"
      ],
      "metadata": {
        "id": "SeWRQUP1IXia"
      }
    },
    {
      "cell_type": "markdown",
      "source": [
        "Random Forest Classifier model, with 200 estimators, and without Feature Selection (i.e. using - x_train):"
      ],
      "metadata": {
        "id": "TofBky2iINNF"
      }
    },
    {
      "cell_type": "code",
      "metadata": {
        "id": "f4DwTzamZBzt",
        "colab": {
          "base_uri": "https://localhost:8080/"
        },
        "outputId": "2071764a-89c6-4eaa-df85-f1149b3cf422"
      },
      "source": [
        "# instantiate the classifier \n",
        "rfc = RandomForestClassifier(random_state=0,n_estimators=200)\n",
        "# fit the model\n",
        "rfc.fit(x_train, y_train)"
      ],
      "execution_count": null,
      "outputs": [
        {
          "output_type": "execute_result",
          "data": {
            "text/plain": [
              "RandomForestClassifier(n_estimators=200, random_state=0)"
            ]
          },
          "metadata": {},
          "execution_count": 48
        }
      ]
    },
    {
      "cell_type": "code",
      "metadata": {
        "id": "n3zMKwu0ZKtM",
        "colab": {
          "base_uri": "https://localhost:8080/"
        },
        "outputId": "443a11ee-9d39-4bc2-a7f0-4c0534d8db15"
      },
      "source": [
        "# predict with the model\n",
        "y_pred = rfc.predict(x_test)\n",
        "# score the model\n",
        "acc = accuracy_score(y_test, y_pred)\n",
        "f1 = f1_score(y_test, y_pred)\n",
        "# add scores results to dataframe\n",
        "append_row(df_pred,'RF_200',(acc,f1))\n",
        "\n",
        "acc"
      ],
      "execution_count": null,
      "outputs": [
        {
          "output_type": "execute_result",
          "data": {
            "text/plain": [
              "0.8540145985401459"
            ]
          },
          "metadata": {},
          "execution_count": 49
        }
      ]
    },
    {
      "cell_type": "markdown",
      "metadata": {
        "id": "wbpYibbcdTbK"
      },
      "source": [
        "###**1.2.1 Model Validation**"
      ]
    },
    {
      "cell_type": "code",
      "metadata": {
        "id": "itx0iFNCdr3b",
        "colab": {
          "base_uri": "https://localhost:8080/",
          "height": 282
        },
        "outputId": "6040a255-52b8-47e4-f3d2-5f67d214d43c"
      },
      "source": [
        "con_mat = confusion_matrix(y_test,y_pred)\n",
        "con_mat = pd.DataFrame(con_mat, columns=['Actual Income >50K' ,'Actual Income <=50K'], \n",
        "                                 index=['Predict Income >50K' , 'Predict Income <=50K'])\n",
        "sns.heatmap(con_mat, annot=True, fmt='d', cmap='PuBu')"
      ],
      "execution_count": null,
      "outputs": [
        {
          "output_type": "execute_result",
          "data": {
            "text/plain": [
              "<matplotlib.axes._subplots.AxesSubplot at 0x7f7767b40190>"
            ]
          },
          "metadata": {},
          "execution_count": 50
        },
        {
          "output_type": "display_data",
          "data": {
            "text/plain": [
              "<Figure size 432x288 with 2 Axes>"
            ],
            "image/png": "[encoded data removed]"
          },
          "metadata": {
            "needs_background": "light"
          }
        }
      ]
    },
    {
      "cell_type": "code",
      "metadata": {
        "id": "2b0Iog3uWAWx",
        "colab": {
          "base_uri": "https://localhost:8080/"
        },
        "outputId": "fd59ccce-d62a-42e7-d56c-09eff52ae9f1"
      },
      "source": [
        "print(classification_report(y_test,y_pred))"
      ],
      "execution_count": null,
      "outputs": [
        {
          "output_type": "stream",
          "name": "stdout",
          "text": [
            "              precision    recall  f1-score   support\n",
            "\n",
            "           0       0.89      0.92      0.90      6749\n",
            "           1       0.74      0.66      0.70      2293\n",
            "\n",
            "    accuracy                           0.85      9042\n",
            "   macro avg       0.81      0.79      0.80      9042\n",
            "weighted avg       0.85      0.85      0.85      9042\n",
            "\n"
          ]
        }
      ]
    },
    {
      "cell_type": "markdown",
      "metadata": {
        "id": "cbCfTmvCdkUh"
      },
      "source": [
        "##**1.3 With Feature Selection + 200 estimators**"
      ]
    },
    {
      "cell_type": "markdown",
      "metadata": {
        "id": "Nwrp_QD5dk5n"
      },
      "source": [
        "*Random Forest Classifier model, with 200 estimators, and with Feature Selection (i.e. using - x_train_k_sel):*"
      ]
    },
    {
      "cell_type": "code",
      "metadata": {
        "id": "1olE6wiidk5p",
        "colab": {
          "base_uri": "https://localhost:8080/"
        },
        "outputId": "9d819a20-2771-4730-f4a8-8eaa7af6213d"
      },
      "source": [
        "# instantiate the classifier \n",
        "rfc = RandomForestClassifier(random_state=0,n_estimators=200)\n",
        "# fit the model\n",
        "rfc.fit(x_train_k_sel, y_train)"
      ],
      "execution_count": null,
      "outputs": [
        {
          "output_type": "execute_result",
          "data": {
            "text/plain": [
              "RandomForestClassifier(n_estimators=200, random_state=0)"
            ]
          },
          "metadata": {},
          "execution_count": 52
        }
      ]
    },
    {
      "cell_type": "code",
      "metadata": {
        "id": "wXj_cFyXdk5y",
        "colab": {
          "base_uri": "https://localhost:8080/"
        },
        "outputId": "d2aa4bcd-aaea-4e25-ffd9-578f816f5c09"
      },
      "source": [
        "# predict with the model\n",
        "y_pred = rfc.predict(x_test[list(x_train_k_sel.columns)])\n",
        "# score the model\n",
        "acc = accuracy_score(y_test, y_pred)\n",
        "f1 = f1_score(y_test, y_pred)\n",
        "# add scores results to dataframe\n",
        "append_row(df_pred,'RF_FS_200',(acc,f1))\n",
        "\n",
        "acc"
      ],
      "execution_count": null,
      "outputs": [
        {
          "output_type": "execute_result",
          "data": {
            "text/plain": [
              "0.8542357885423579"
            ]
          },
          "metadata": {},
          "execution_count": 53
        }
      ]
    },
    {
      "cell_type": "markdown",
      "metadata": {
        "id": "ij-XhjN7dk52"
      },
      "source": [
        "###**1.3.1 Model Validation**"
      ]
    },
    {
      "cell_type": "code",
      "metadata": {
        "id": "DRm-gD4Sdk53",
        "colab": {
          "base_uri": "https://localhost:8080/",
          "height": 282
        },
        "outputId": "e9cfb6c6-0c39-4d52-d42b-73d5c562d5a9"
      },
      "source": [
        "con_mat = confusion_matrix(y_test,y_pred)\n",
        "con_mat = pd.DataFrame(con_mat, columns=['Actual Income >50K' ,'Actual Income <=50K'], \n",
        "                                 index=['Predict Income >50K' , 'Predict Income <=50K'])\n",
        "sns.heatmap(con_mat, annot=True, fmt='d', cmap='PuBu')"
      ],
      "execution_count": null,
      "outputs": [
        {
          "output_type": "execute_result",
          "data": {
            "text/plain": [
              "<matplotlib.axes._subplots.AxesSubplot at 0x7f776797f0d0>"
            ]
          },
          "metadata": {},
          "execution_count": 54
        },
        {
          "output_type": "display_data",
          "data": {
            "text/plain": [
              "<Figure size 432x288 with 2 Axes>"
            ],
            "image/png": "[encoded data removed]"
          },
          "metadata": {
            "needs_background": "light"
          }
        }
      ]
    },
    {
      "cell_type": "code",
      "metadata": {
        "id": "z50eiAZDdk56",
        "colab": {
          "base_uri": "https://localhost:8080/"
        },
        "outputId": "3dce8121-34dd-4fc8-f6a8-516c6e3ddbd8"
      },
      "source": [
        "print(classification_report(y_test,y_pred))"
      ],
      "execution_count": null,
      "outputs": [
        {
          "output_type": "stream",
          "name": "stdout",
          "text": [
            "              precision    recall  f1-score   support\n",
            "\n",
            "           0       0.89      0.92      0.90      6749\n",
            "           1       0.73      0.67      0.70      2293\n",
            "\n",
            "    accuracy                           0.85      9042\n",
            "   macro avg       0.81      0.79      0.80      9042\n",
            "weighted avg       0.85      0.85      0.85      9042\n",
            "\n"
          ]
        }
      ]
    },
    {
      "cell_type": "markdown",
      "metadata": {
        "id": "-n8MVvwhWa70"
      },
      "source": [
        "##**2. Gradient Boosting Classifier**"
      ]
    },
    {
      "cell_type": "markdown",
      "metadata": {
        "id": "LcKQoS32hQbi"
      },
      "source": [
        "##**2.1 Without Feature Selection + 100 estimators**"
      ]
    },
    {
      "cell_type": "markdown",
      "metadata": {
        "id": "d7kvSVvoLUZp"
      },
      "source": [
        "*Gradient Boosting Classifier model, with 100 estimators, and without Feature Selection (i.e. using - x_train):*"
      ]
    },
    {
      "cell_type": "code",
      "metadata": {
        "colab": {
          "base_uri": "https://localhost:8080/"
        },
        "outputId": "88df9f03-7716-4ff2-fae8-8bd8439a79a4",
        "id": "BqbMEY2XLUZp"
      },
      "source": [
        "# instantiate the classifier \n",
        "clf_GB = GradientBoostingClassifier(max_depth=10, n_estimators=100, learning_rate=0.01)\n",
        "# fit the model\n",
        "clf_GB.fit(x_train, y_train)"
      ],
      "execution_count": null,
      "outputs": [
        {
          "output_type": "execute_result",
          "data": {
            "text/plain": [
              "GradientBoostingClassifier(learning_rate=0.01, max_depth=10)"
            ]
          },
          "metadata": {},
          "execution_count": 56
        }
      ]
    },
    {
      "cell_type": "code",
      "metadata": {
        "colab": {
          "base_uri": "https://localhost:8080/"
        },
        "outputId": "46a3afef-437e-449a-9cae-ff2263344fd4",
        "id": "UklaYVtjLUZp"
      },
      "source": [
        "# predict with the model\n",
        "y_pred = clf_GB.predict(x_test)\n",
        "# score the model\n",
        "acc = accuracy_score(y_test, y_pred)\n",
        "f1 = f1_score(y_test, y_pred)\n",
        "# add scores results to dataframe\n",
        "append_row(df_pred,'GB_100',(acc,f1))\n",
        "\n",
        "acc"
      ],
      "execution_count": null,
      "outputs": [
        {
          "output_type": "execute_result",
          "data": {
            "text/plain": [
              "0.8480424684804246"
            ]
          },
          "metadata": {},
          "execution_count": 57
        }
      ]
    },
    {
      "cell_type": "markdown",
      "metadata": {
        "id": "dZytOG4FLUZq"
      },
      "source": [
        "###**2.1.1 Model Validation**"
      ]
    },
    {
      "cell_type": "code",
      "metadata": {
        "colab": {
          "base_uri": "https://localhost:8080/",
          "height": 282
        },
        "outputId": "d1c40c42-38ab-404d-a1d7-b8300a7fcfe9",
        "id": "RgdCnrJaLUZq"
      },
      "source": [
        "con_mat = confusion_matrix(y_test,y_pred)\n",
        "con_mat = pd.DataFrame(con_mat, columns=['Actual Income >50K' ,'Actual Income <=50K'], \n",
        "                                 index=['Predict Income >50K' , 'Predict Income <=50K'])\n",
        "sns.heatmap(con_mat, annot=True, fmt='d', cmap='PuBu')"
      ],
      "execution_count": null,
      "outputs": [
        {
          "output_type": "execute_result",
          "data": {
            "text/plain": [
              "<matplotlib.axes._subplots.AxesSubplot at 0x7f776797c6d0>"
            ]
          },
          "metadata": {},
          "execution_count": 58
        },
        {
          "output_type": "display_data",
          "data": {
            "text/plain": [
              "<Figure size 432x288 with 2 Axes>"
            ],
            "image/png": "[encoded data removed]"
          },
          "metadata": {
            "needs_background": "light"
          }
        }
      ]
    },
    {
      "cell_type": "code",
      "metadata": {
        "colab": {
          "base_uri": "https://localhost:8080/"
        },
        "outputId": "97bcc15c-c3c5-4ec2-8623-e104e5fc50ca",
        "id": "O7HglAVtLUZq"
      },
      "source": [
        "print(classification_report(y_test,y_pred))"
      ],
      "execution_count": null,
      "outputs": [
        {
          "output_type": "stream",
          "name": "stdout",
          "text": [
            "              precision    recall  f1-score   support\n",
            "\n",
            "           0       0.89      0.91      0.90      6749\n",
            "           1       0.71      0.67      0.69      2293\n",
            "\n",
            "    accuracy                           0.85      9042\n",
            "   macro avg       0.80      0.79      0.80      9042\n",
            "weighted avg       0.85      0.85      0.85      9042\n",
            "\n"
          ]
        }
      ]
    },
    {
      "cell_type": "markdown",
      "source": [
        "##**2.2 Without Feature Selection + 200 estimators**"
      ],
      "metadata": {
        "id": "TcBF3HueMCP5"
      }
    },
    {
      "cell_type": "markdown",
      "metadata": {
        "id": "pYHQO9emjYPY"
      },
      "source": [
        "*Gradient Boosting Classifier model, with 200 estimators, and without Feature Selection (i.e. using - x_train):*"
      ]
    },
    {
      "cell_type": "code",
      "metadata": {
        "id": "WP_omWQ3XVBZ",
        "colab": {
          "base_uri": "https://localhost:8080/"
        },
        "outputId": "e7ee9b75-3384-4b69-c3eb-bce8852f1ba7"
      },
      "source": [
        "# instantiate the classifier \n",
        "clf_GB = GradientBoostingClassifier(max_depth=10, n_estimators=200, learning_rate=0.01)\n",
        "# fit the model\n",
        "clf_GB.fit(x_train, y_train)"
      ],
      "execution_count": null,
      "outputs": [
        {
          "output_type": "execute_result",
          "data": {
            "text/plain": [
              "GradientBoostingClassifier(learning_rate=0.01, max_depth=10, n_estimators=200)"
            ]
          },
          "metadata": {},
          "execution_count": 72
        }
      ]
    },
    {
      "cell_type": "code",
      "metadata": {
        "id": "gvb1g7m7Y4Ke",
        "colab": {
          "base_uri": "https://localhost:8080/"
        },
        "outputId": "a0aec62b-bce6-4a43-80f9-25fa422e2973"
      },
      "source": [
        "# predict with the model\n",
        "y_pred = clf_GB.predict(x_test)\n",
        "# score the model\n",
        "acc = accuracy_score(y_test, y_pred)\n",
        "f1 = f1_score(y_test, y_pred)\n",
        "# add scores results to dataframe\n",
        "append_row(df_pred,'GB_200',(acc,f1))\n",
        "\n",
        "acc"
      ],
      "execution_count": null,
      "outputs": [
        {
          "output_type": "execute_result",
          "data": {
            "text/plain": [
              "0.8553417385534173"
            ]
          },
          "metadata": {},
          "execution_count": 61
        }
      ]
    },
    {
      "cell_type": "markdown",
      "metadata": {
        "id": "SqegKonGhCyq"
      },
      "source": [
        "###**2.2.1 Model Validation**"
      ]
    },
    {
      "cell_type": "code",
      "metadata": {
        "id": "kh3RQEQ_YgzF",
        "colab": {
          "base_uri": "https://localhost:8080/",
          "height": 282
        },
        "outputId": "4eedbeac-3050-4069-eb92-f291e11f5677"
      },
      "source": [
        "con_mat = confusion_matrix(y_test,y_pred)\n",
        "con_mat = pd.DataFrame(con_mat, columns=['Actual Income >50K' ,'Actual Income <=50K'], \n",
        "                                 index=['Predict Income >50K' , 'Predict Income <=50K'])\n",
        "sns.heatmap(con_mat, annot=True, fmt='d', cmap='PuBu')"
      ],
      "execution_count": null,
      "outputs": [
        {
          "output_type": "execute_result",
          "data": {
            "text/plain": [
              "<matplotlib.axes._subplots.AxesSubplot at 0x7f7767837a10>"
            ]
          },
          "metadata": {},
          "execution_count": 62
        },
        {
          "output_type": "display_data",
          "data": {
            "text/plain": [
              "<Figure size 432x288 with 2 Axes>"
            ],
            "image/png": "[encoded data removed]"
          },
          "metadata": {
            "needs_background": "light"
          }
        }
      ]
    },
    {
      "cell_type": "code",
      "metadata": {
        "id": "0uV98LBwYlnw",
        "colab": {
          "base_uri": "https://localhost:8080/"
        },
        "outputId": "133c267a-3687-4389-d102-951bf73d3e4c"
      },
      "source": [
        "print(classification_report(y_test,y_pred))"
      ],
      "execution_count": null,
      "outputs": [
        {
          "output_type": "stream",
          "name": "stdout",
          "text": [
            "              precision    recall  f1-score   support\n",
            "\n",
            "           0       0.90      0.91      0.90      6749\n",
            "           1       0.73      0.69      0.71      2293\n",
            "\n",
            "    accuracy                           0.86      9042\n",
            "   macro avg       0.81      0.80      0.81      9042\n",
            "weighted avg       0.85      0.86      0.85      9042\n",
            "\n"
          ]
        }
      ]
    },
    {
      "cell_type": "markdown",
      "metadata": {
        "id": "m_k5R1RPgzuG"
      },
      "source": [
        "##**2.3 With Feature Selection + 200 estimators**"
      ]
    },
    {
      "cell_type": "markdown",
      "metadata": {
        "id": "RE1fROcRgzuO"
      },
      "source": [
        "*Gradient Boosting Classifier model, with 200 estimators, and with Feature Selection (i.e. using - x_train_k_sel):*"
      ]
    },
    {
      "cell_type": "code",
      "metadata": {
        "id": "m1StPha4gzuO",
        "colab": {
          "base_uri": "https://localhost:8080/"
        },
        "outputId": "63387f6b-fa70-47ac-fa50-1ae20e2ec8de"
      },
      "source": [
        "clf_GB = GradientBoostingClassifier(max_depth=10, n_estimators=200, learning_rate=0.01)\n",
        "clf_GB.fit(x_train_k_sel, y_train)"
      ],
      "execution_count": null,
      "outputs": [
        {
          "output_type": "execute_result",
          "data": {
            "text/plain": [
              "GradientBoostingClassifier(learning_rate=0.01, max_depth=10, n_estimators=200)"
            ]
          },
          "metadata": {},
          "execution_count": 64
        }
      ]
    },
    {
      "cell_type": "code",
      "metadata": {
        "id": "F-mGPHX0gzuS",
        "colab": {
          "base_uri": "https://localhost:8080/"
        },
        "outputId": "0809c52b-b4fd-4213-8a86-8185dadb8fe5"
      },
      "source": [
        "y_pred = clf_GB.predict(x_test[list(x_train_k_sel.columns)])\n",
        "acc = accuracy_score(y_test, y_pred)\n",
        "f1 = f1_score(y_test, y_pred)\n",
        "append_row(df_pred,'GB_FS_200',(acc,f1))\n",
        "acc"
      ],
      "execution_count": null,
      "outputs": [
        {
          "output_type": "execute_result",
          "data": {
            "text/plain": [
              "0.8547887635478877"
            ]
          },
          "metadata": {},
          "execution_count": 65
        }
      ]
    },
    {
      "cell_type": "markdown",
      "metadata": {
        "id": "0IgqpSqegzuV"
      },
      "source": [
        "###**2.3.1. Model Validation**"
      ]
    },
    {
      "cell_type": "code",
      "metadata": {
        "id": "UlU8JJ9GgzuV",
        "colab": {
          "base_uri": "https://localhost:8080/",
          "height": 282
        },
        "outputId": "f710ebe9-76bb-4f1d-a42a-2aedec53b7e9"
      },
      "source": [
        "con_mat = confusion_matrix(y_test,y_pred)\n",
        "con_mat = pd.DataFrame(con_mat, columns=['Actual Income >50K' ,'Actual Income <=50K'], \n",
        "                                 index=['Predict Income >50K' , 'Predict Income <=50K'])\n",
        "sns.heatmap(con_mat, annot=True, fmt='d', cmap='PuBu')"
      ],
      "execution_count": null,
      "outputs": [
        {
          "output_type": "execute_result",
          "data": {
            "text/plain": [
              "<matplotlib.axes._subplots.AxesSubplot at 0x7f776772fd10>"
            ]
          },
          "metadata": {},
          "execution_count": 66
        },
        {
          "output_type": "display_data",
          "data": {
            "text/plain": [
              "<Figure size 432x288 with 2 Axes>"
            ],
            "image/png": "[encoded data removed]"
          },
          "metadata": {
            "needs_background": "light"
          }
        }
      ]
    },
    {
      "cell_type": "code",
      "metadata": {
        "id": "HZkivhUMgzuX",
        "colab": {
          "base_uri": "https://localhost:8080/"
        },
        "outputId": "91606f0b-8eb7-4316-81c9-85c96cdfa6e4"
      },
      "source": [
        "print(classification_report(y_test,y_pred))"
      ],
      "execution_count": null,
      "outputs": [
        {
          "output_type": "stream",
          "name": "stdout",
          "text": [
            "              precision    recall  f1-score   support\n",
            "\n",
            "           0       0.90      0.91      0.90      6749\n",
            "           1       0.72      0.70      0.71      2293\n",
            "\n",
            "    accuracy                           0.85      9042\n",
            "   macro avg       0.81      0.80      0.81      9042\n",
            "weighted avg       0.85      0.85      0.85      9042\n",
            "\n"
          ]
        }
      ]
    },
    {
      "cell_type": "markdown",
      "metadata": {
        "id": "fWbkChvMfGLB"
      },
      "source": [
        "#**Scoring Visualization**"
      ]
    },
    {
      "cell_type": "code",
      "metadata": {
        "id": "G0vkuUMmKexI",
        "colab": {
          "base_uri": "https://localhost:8080/",
          "height": 238
        },
        "outputId": "7401c36b-44f2-4c7b-c03a-e9b926d84e86"
      },
      "source": [
        "df_pred"
      ],
      "execution_count": null,
      "outputs": [
        {
          "output_type": "execute_result",
          "data": {
            "text/plain": [
              "           Accuracy Score        f1\n",
              "RF_100           0.853019  0.694131\n",
              "RF_200           0.854015  0.695572\n",
              "RF_FS_200        0.854236  0.700182\n",
              "GB_100           0.848042  0.692480\n",
              "GB_200           0.855342  0.707775\n",
              "GB_FS_200        0.854789  0.709192"
            ],
            "text/html": [
              "\n",
              "  <div id=\"df-fae931fb-ea77-4338-871a-a6fc3cf633c2\">\n",
              "    <div class=\"colab-df-container\">\n",
              "      <div>\n",
              "<style scoped>\n",
              "    .dataframe tbody tr th:only-of-type {\n",
              "        vertical-align: middle;\n",
              "    }\n",
              "\n",
              "    .dataframe tbody tr th {\n",
              "        vertical-align: top;\n",
              "    }\n",
              "\n",
              "    .dataframe thead th {\n",
              "        text-align: right;\n",
              "    }\n",
              "</style>\n",
              "<table border=\"1\" class=\"dataframe\">\n",
              "  <thead>\n",
              "    <tr style=\"text-align: right;\">\n",
              "      <th></th>\n",
              "      <th>Accuracy Score</th>\n",
              "      <th>f1</th>\n",
              "    </tr>\n",
              "  </thead>\n",
              "  <tbody>\n",
              "    <tr>\n",
              "      <th>RF_100</th>\n",
              "      <td>0.853019</td>\n",
              "      <td>0.694131</td>\n",
              "    </tr>\n",
              "    <tr>\n",
              "      <th>RF_200</th>\n",
              "      <td>0.854015</td>\n",
              "      <td>0.695572</td>\n",
              "    </tr>\n",
              "    <tr>\n",
              "      <th>RF_FS_200</th>\n",
              "      <td>0.854236</td>\n",
              "      <td>0.700182</td>\n",
              "    </tr>\n",
              "    <tr>\n",
              "      <th>GB_100</th>\n",
              "      <td>0.848042</td>\n",
              "      <td>0.692480</td>\n",
              "    </tr>\n",
              "    <tr>\n",
              "      <th>GB_200</th>\n",
              "      <td>0.855342</td>\n",
              "      <td>0.707775</td>\n",
              "    </tr>\n",
              "    <tr>\n",
              "      <th>GB_FS_200</th>\n",
              "      <td>0.854789</td>\n",
              "      <td>0.709192</td>\n",
              "    </tr>\n",
              "  </tbody>\n",
              "</table>\n",
              "</div>\n",
              "      <button class=\"colab-df-convert\" onclick=\"convertToInteractive('df-fae931fb-ea77-4338-871a-a6fc3cf633c2')\"\n",
              "              title=\"Convert this dataframe to an interactive table.\"\n",
              "              style=\"display:none;\">\n",
              "        \n",
              "  <svg xmlns=\"http://www.w3.org/2000/svg\" height=\"24px\"viewBox=\"0 0 24 24\"\n",
              "       width=\"24px\">\n",
              "    <path d=\"M0 0h24v24H0V0z\" fill=\"none\"/>\n",
              "    <path d=\"M18.56 5.44l.94 2.06.94-2.06 2.06-.94-2.06-.94-.94-2.06-.94 2.06-2.06.94zm-11 1L8.5 8.5l.94-2.06 2.06-.94-2.06-.94L8.5 2.5l-.94 2.06-2.06.94zm10 10l.94 2.06.94-2.06 2.06-.94-2.06-.94-.94-2.06-.94 2.06-2.06.94z\"/><path d=\"M17.41 7.96l-1.37-1.37c-.4-.4-.92-.59-1.43-.59-.52 0-1.04.2-1.43.59L10.3 9.45l-7.72 7.72c-.78.78-.78 2.05 0 2.83L4 21.41c.39.39.9.59 1.41.59.51 0 1.02-.2 1.41-.59l7.78-7.78 2.81-2.81c.8-.78.8-2.07 0-2.86zM5.41 20L4 18.59l7.72-7.72 1.47 1.35L5.41 20z\"/>\n",
              "  </svg>\n",
              "      </button>\n",
              "      \n",
              "  <style>\n",
              "    .colab-df-container {\n",
              "      display:flex;\n",
              "      flex-wrap:wrap;\n",
              "      gap: 12px;\n",
              "    }\n",
              "\n",
              "    .colab-df-convert {\n",
              "      background-color: #E8F0FE;\n",
              "      border: none;\n",
              "      border-radius: 50%;\n",
              "      cursor: pointer;\n",
              "      display: none;\n",
              "      fill: #1967D2;\n",
              "      height: 32px;\n",
              "      padding: 0 0 0 0;\n",
              "      width: 32px;\n",
              "    }\n",
              "\n",
              "    .colab-df-convert:hover {\n",
              "      background-color: #E2EBFA;\n",
              "      box-shadow: 0px 1px 2px rgba(60, 64, 67, 0.3), 0px 1px 3px 1px rgba(60, 64, 67, 0.15);\n",
              "      fill: #174EA6;\n",
              "    }\n",
              "\n",
              "    [theme=dark] .colab-df-convert {\n",
              "      background-color: #3B4455;\n",
              "      fill: #D2E3FC;\n",
              "    }\n",
              "\n",
              "    [theme=dark] .colab-df-convert:hover {\n",
              "      background-color: #434B5C;\n",
              "      box-shadow: 0px 1px 3px 1px rgba(0, 0, 0, 0.15);\n",
              "      filter: drop-shadow(0px 1px 2px rgba(0, 0, 0, 0.3));\n",
              "      fill: #FFFFFF;\n",
              "    }\n",
              "  </style>\n",
              "\n",
              "      <script>\n",
              "        const buttonEl =\n",
              "          document.querySelector('#df-fae931fb-ea77-4338-871a-a6fc3cf633c2 button.colab-df-convert');\n",
              "        buttonEl.style.display =\n",
              "          google.colab.kernel.accessAllowed ? 'block' : 'none';\n",
              "\n",
              "        async function convertToInteractive(key) {\n",
              "          const element = document.querySelector('#df-fae931fb-ea77-4338-871a-a6fc3cf633c2');\n",
              "          const dataTable =\n",
              "            await google.colab.kernel.invokeFunction('convertToInteractive',\n",
              "                                                     [key], {});\n",
              "          if (!dataTable) return;\n",
              "\n",
              "          const docLinkHtml = 'Like what you see? Visit the ' +\n",
              "            '<a target=\"_blank\" href=https://colab.research.google.com/notebooks/data_table.ipynb>data table notebook</a>'\n",
              "            + ' to learn more about interactive tables.';\n",
              "          element.innerHTML = '';\n",
              "          dataTable['output_type'] = 'display_data';\n",
              "          await google.colab.output.renderOutput(dataTable, element);\n",
              "          const docLink = document.createElement('div');\n",
              "          docLink.innerHTML = docLinkHtml;\n",
              "          element.appendChild(docLink);\n",
              "        }\n",
              "      </script>\n",
              "    </div>\n",
              "  </div>\n",
              "  "
            ]
          },
          "metadata": {},
          "execution_count": 68
        }
      ]
    },
    {
      "cell_type": "code",
      "source": [
        "plot = df_pred.rename_axis(index='Model').plot.bar()\n",
        "plot.set_ylabel('Score')"
      ],
      "metadata": {
        "colab": {
          "base_uri": "https://localhost:8080/",
          "height": 342
        },
        "id": "8DF8gG8pYN4Q",
        "outputId": "6bef157c-3c58-4365-effc-200f97a95bee"
      },
      "execution_count": null,
      "outputs": [
        {
          "output_type": "execute_result",
          "data": {
            "text/plain": [
              "Text(0, 0.5, 'Score')"
            ]
          },
          "metadata": {},
          "execution_count": 69
        },
        {
          "output_type": "display_data",
          "data": {
            "text/plain": [
              "<Figure size 432x288 with 1 Axes>"
            ],
            "image/png": "[encoded data removed]"
          },
          "metadata": {
            "needs_background": "light"
          }
        }
      ]
    },
    {
      "cell_type": "markdown",
      "source": [
        "## **Results and Conclusions**"
      ],
      "metadata": {
        "id": "SADphmxwMgIV"
      }
    },
    {
      "cell_type": "markdown",
      "source": [
        "1. In this project, in order to predict whether a person makes over 50K a year, I built 2 models and applied 3 different approaches:\n",
        "  * *Models - Random Forest Classifier and Gradient Boosting Classifier*\n",
        "  * *Approaches - 100 estimators, 200 estimators and 200 estimators with features selection.*\n",
        "2. The score of the models, as expected, increased with number of decision-trees in the model.\n",
        "  * *Both in terms of accuracy and f1 score.*\n",
        "3. Training the model only on portion of the columns (features selection), surprisingly, caused an improvment only in the Random Forest model.\n",
        "4. Confusion matrix and classification report are attached as well to visualize the models performance.\n",
        "5. The best performing model with the highest accuracy and f1 score is - Gradient Boosting Classifier with 200 estimators."
      ],
      "metadata": {
        "id": "MPnliyseMjK6"
      }
    },
    {
      "cell_type": "code",
      "source": [
        "# features importance of the best model (Random Forest Classifier)\n",
        "pd.Series(clf_GB.feature_importances_, index=x_train.columns).head(20).sort_values().plot.barh(figsize=(4, 10), rot=0)"
      ],
      "metadata": {
        "colab": {
          "base_uri": "https://localhost:8080/",
          "height": 609
        },
        "id": "ehh62522jPcT",
        "outputId": "54f1de3c-351a-4e1a-dd7d-30878ab86c5d"
      },
      "execution_count": null,
      "outputs": [
        {
          "output_type": "execute_result",
          "data": {
            "text/plain": [
              "<matplotlib.axes._subplots.AxesSubplot at 0x7f776566f410>"
            ]
          },
          "metadata": {},
          "execution_count": 76
        },
        {
          "output_type": "display_data",
          "data": {
            "text/plain": [
              "<Figure size 288x720 with 1 Axes>"
            ],
            "image/png": "[encoded data removed]"
          },
          "metadata": {
            "needs_background": "light"
          }
        }
      ]
    }
  ]
}